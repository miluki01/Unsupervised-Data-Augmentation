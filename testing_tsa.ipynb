{
 "cells": [
  {
   "cell_type": "code",
   "execution_count": 1,
   "metadata": {},
   "outputs": [],
   "source": [
    "from tqdm import tqdm\n",
    "import math\n",
    "import numpy as np\n",
    "import torch\n",
    "import matplotlib.pyplot as plt\n",
    "\n",
    "from sklearn.datasets import make_classification\n",
    "from tsa import TSAScheduleCrossEntropy\n",
    "\n",
    "import time"
   ]
  },
  {
   "cell_type": "code",
   "execution_count": 2,
   "metadata": {},
   "outputs": [],
   "source": [
    "N_EPOCHS = 5\n",
    "N_SAMPLES_TRAIN = 500000\n",
    "N_SAMPLES_TEST = N_SAMPLES_TRAIN // 10\n",
    "K_CLASSES = 3\n",
    "batch_size = 512\n",
    "N_STEPS = N_SAMPLES_TRAIN // batch_size\n",
    "N_FEATURES = 150\n",
    "\n",
    "x, y = make_classification(n_samples=N_SAMPLES_TRAIN+N_SAMPLES_TEST,\n",
    "                           n_classes=K_CLASSES, n_informative=3, n_features=N_FEATURES)"
   ]
  },
  {
   "cell_type": "code",
   "execution_count": 3,
   "metadata": {},
   "outputs": [],
   "source": [
    "x_train, x_test = x[:-N_SAMPLES_TEST], x[-N_SAMPLES_TEST:]\n",
    "y_train, y_test = y[:-N_SAMPLES_TEST], y[-N_SAMPLES_TEST:]"
   ]
  },
  {
   "cell_type": "code",
   "execution_count": 4,
   "metadata": {},
   "outputs": [],
   "source": [
    "net = torch.nn.Sequential(\n",
    "    torch.nn.Linear(in_features=N_FEATURES, out_features=50),\n",
    "    torch.nn.ReLU(),\n",
    "    torch.nn.Linear(in_features=50, out_features=K_CLASSES))\n",
    "\n",
    "optimizer = torch.optim.Adam(net.parameters())\n",
    "\n",
    "criterion = torch.nn.CrossEntropyLoss()\n",
    "tsa = TSAScheduleCrossEntropy(total_steps=N_EPOCHS * N_STEPS,\n",
    "                              n_classes=K_CLASSES,\n",
    "                              schedule_type='log')"
   ]
  },
  {
   "cell_type": "code",
   "execution_count": 5,
   "metadata": {
    "scrolled": true
   },
   "outputs": [
    {
     "name": "stdout",
     "output_type": "stream",
     "text": [
      "Train loss: 0.779 | Test loss: 1.054\n",
      "Train loss: 0.332 | Test loss: 1.405\n",
      "Train loss: 0.120 | Test loss: 1.500\n",
      "Train loss: 0.042 | Test loss: 1.586\n",
      "Train loss: 0.014 | Test loss: 1.658\n"
     ]
    }
   ],
   "source": [
    "for n_epoch in range(N_EPOCHS):\n",
    "\n",
    "#     pg = tqdm(total=N_STEPS, desc=f'Epoch: {n_epoch}')\n",
    "    \n",
    "    train_loss = []\n",
    "    \n",
    "    for i in range(N_STEPS):\n",
    "        \n",
    "        optimizer.zero_grad()\n",
    "\n",
    "        x_batch = torch.Tensor(x_train[i:i + batch_size])\n",
    "        y_batch = torch.Tensor(y_train[i:i + batch_size]).long()\n",
    "        \n",
    "        pred = net(x_batch)\n",
    "        \n",
    "        correct_pred, correct_y = tsa(pred, y_batch)\n",
    "        \n",
    "        if correct_pred.shape[0] == 0:\n",
    "            continue\n",
    "        \n",
    "        loss = criterion(correct_pred, correct_y)\n",
    "        \n",
    "        loss.backward()\n",
    "        optimizer.step()\n",
    "        \n",
    "#         pg.update()\n",
    "        \n",
    "#         pg.set_postfix(loss=loss.item())\n",
    "        \n",
    "        train_loss.append(loss.item())\n",
    "        \n",
    "#         time.sleep(0.01)\n",
    "        \n",
    "        \n",
    "    test_loss = []\n",
    "\n",
    "    for i in range(N_SAMPLES_TEST // batch_size):\n",
    "\n",
    "        x_batch = torch.Tensor(x_test[i:i + batch_size])\n",
    "        y_batch = torch.Tensor(y_test[i:i + batch_size]).long()\n",
    "\n",
    "        with torch.no_grad():\n",
    "            pred = net(x_batch)\n",
    "\n",
    "        loss = criterion(pred, y_batch)\n",
    "\n",
    "        test_loss.append(loss.item())\n",
    "        \n",
    "    print(f'Train loss: {np.mean(train_loss):.3f} | Test loss: {np.mean(test_loss):.3f}')\n",
    "        \n",
    "# pg.close()"
   ]
  },
  {
   "cell_type": "code",
   "execution_count": 6,
   "metadata": {},
   "outputs": [],
   "source": [
    "net = torch.nn.Sequential(\n",
    "    torch.nn.Linear(in_features=N_FEATURES, out_features=50),\n",
    "    torch.nn.ReLU(),\n",
    "    torch.nn.Linear(in_features=50, out_features=K_CLASSES))\n",
    "\n",
    "optimizer = torch.optim.Adam(net.parameters())\n",
    "\n",
    "criterion = torch.nn.CrossEntropyLoss()"
   ]
  },
  {
   "cell_type": "code",
   "execution_count": 7,
   "metadata": {},
   "outputs": [
    {
     "name": "stdout",
     "output_type": "stream",
     "text": [
      "Train loss: 0.107 | Test loss: 1.863\n",
      "Train loss: 0.011 | Test loss: 2.065\n",
      "Train loss: 0.001 | Test loss: 2.247\n",
      "Train loss: 0.000 | Test loss: 2.405\n",
      "Train loss: 0.000 | Test loss: 2.549\n"
     ]
    }
   ],
   "source": [
    "for n_epoch in range(N_EPOCHS):\n",
    "    \n",
    "    train_loss = []\n",
    "    \n",
    "    for i in range(N_STEPS):\n",
    "        \n",
    "        optimizer.zero_grad()\n",
    "\n",
    "        x_batch = torch.Tensor(x_train[i:i + batch_size])\n",
    "        y_batch = torch.Tensor(y_train[i:i + batch_size]).long()\n",
    "        \n",
    "        pred = net(x_batch)\n",
    "        \n",
    "        loss = criterion(pred, y_batch)\n",
    "        \n",
    "        loss.backward()\n",
    "        optimizer.step()\n",
    "        \n",
    "        train_loss.append(loss.item())\n",
    "        \n",
    "        \n",
    "    test_loss = []\n",
    "\n",
    "    for i in range(N_SAMPLES_TEST // batch_size):\n",
    "\n",
    "        x_batch = torch.Tensor(x_test[i:i + batch_size])\n",
    "        y_batch = torch.Tensor(y_test[i:i + batch_size]).long()\n",
    "\n",
    "        with torch.no_grad():\n",
    "            pred = net(x_batch)\n",
    "\n",
    "        loss = criterion(pred, y_batch)\n",
    "\n",
    "        test_loss.append(loss.item())\n",
    "        \n",
    "    print(f'Train loss: {np.mean(train_loss):.3f} | Test loss: {np.mean(test_loss):.3f}')"
   ]
  },
  {
   "cell_type": "code",
   "execution_count": null,
   "metadata": {},
   "outputs": [],
   "source": []
  }
 ],
 "metadata": {
  "kernelspec": {
   "display_name": "Python 3",
   "language": "python",
   "name": "python3"
  },
  "language_info": {
   "codemirror_mode": {
    "name": "ipython",
    "version": 3
   },
   "file_extension": ".py",
   "mimetype": "text/x-python",
   "name": "python",
   "nbconvert_exporter": "python",
   "pygments_lexer": "ipython3",
   "version": "3.6.5"
  }
 },
 "nbformat": 4,
 "nbformat_minor": 2
}
