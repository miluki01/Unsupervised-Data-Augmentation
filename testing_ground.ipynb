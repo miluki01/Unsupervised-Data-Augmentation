{
 "cells": [
  {
   "cell_type": "code",
   "execution_count": 1,
   "metadata": {},
   "outputs": [],
   "source": [
    "import math\n",
    "import numpy as np\n",
    "import torch\n",
    "import matplotlib.pyplot as plt"
   ]
  },
  {
   "cell_type": "code",
   "execution_count": 2,
   "metadata": {},
   "outputs": [],
   "source": [
    "T = math.ceil(1500000 / 32)\n",
    "k = 3"
   ]
  },
  {
   "cell_type": "code",
   "execution_count": 3,
   "metadata": {},
   "outputs": [],
   "source": [
    "batch_size = 16"
   ]
  },
  {
   "cell_type": "code",
   "execution_count": 4,
   "metadata": {},
   "outputs": [],
   "source": [
    "x = torch.rand(batch_size, 3)\n",
    "y = torch.randint(k, (batch_size, ))\n",
    "\n",
    "x_bce = torch.rand(batch_size, 1)\n",
    "y_bce = torch.randint(2, (batch_size, 1)).float()"
   ]
  },
  {
   "cell_type": "code",
   "execution_count": 5,
   "metadata": {},
   "outputs": [],
   "source": [
    "from tsa import TrainingSignalAnnealing, TSAScheduleCrossEntropy, TSAScheduleBinaryCrossEntropy"
   ]
  },
  {
   "cell_type": "code",
   "execution_count": 6,
   "metadata": {},
   "outputs": [],
   "source": [
    "ce_tsa = TSAScheduleCrossEntropy(total_steps=T, n_classes=k)\n",
    "bce_tsa = TSAScheduleBinaryCrossEntropy(total_steps=T, n_classes=2, current_step=T//3)"
   ]
  },
  {
   "cell_type": "code",
   "execution_count": 7,
   "metadata": {},
   "outputs": [
    {
     "data": {
      "text/plain": [
       "TSAScheduleCrossEntropy(\n",
       "  (criterion): CrossEntropyLoss()\n",
       "  (activation): Softmax()\n",
       ")"
      ]
     },
     "execution_count": 7,
     "metadata": {},
     "output_type": "execute_result"
    }
   ],
   "source": [
    "ce_tsa"
   ]
  },
  {
   "cell_type": "code",
   "execution_count": 8,
   "metadata": {},
   "outputs": [
    {
     "data": {
      "text/plain": [
       "TSAScheduleBinaryCrossEntropy(\n",
       "  (criterion): BCELoss()\n",
       "  (activation): Sigmoid()\n",
       ")"
      ]
     },
     "execution_count": 8,
     "metadata": {},
     "output_type": "execute_result"
    }
   ],
   "source": [
    "bce_tsa"
   ]
  },
  {
   "cell_type": "code",
   "execution_count": 9,
   "metadata": {},
   "outputs": [],
   "source": [
    "correct_x, correct_y = ce_tsa(x, y)"
   ]
  },
  {
   "cell_type": "code",
   "execution_count": 10,
   "metadata": {},
   "outputs": [],
   "source": [
    "correct_x_bce, correct_y_bce = bce_tsa(x_bce, y_bce)"
   ]
  },
  {
   "cell_type": "code",
   "execution_count": 11,
   "metadata": {},
   "outputs": [
    {
     "data": {
      "text/plain": [
       "(torch.Size([11, 3]), torch.Size([11]))"
      ]
     },
     "execution_count": 11,
     "metadata": {},
     "output_type": "execute_result"
    }
   ],
   "source": [
    "correct_x.shape, correct_y.shape"
   ]
  },
  {
   "cell_type": "code",
   "execution_count": 12,
   "metadata": {},
   "outputs": [
    {
     "data": {
      "text/plain": [
       "(torch.Size([14, 1]), torch.Size([14, 1]))"
      ]
     },
     "execution_count": 12,
     "metadata": {},
     "output_type": "execute_result"
    }
   ],
   "source": [
    "correct_x_bce.shape, correct_y_bce.shape"
   ]
  },
  {
   "cell_type": "code",
   "execution_count": 13,
   "metadata": {},
   "outputs": [],
   "source": [
    "ce = torch.nn.CrossEntropyLoss()\n",
    "bce = torch.nn.BCELoss()"
   ]
  },
  {
   "cell_type": "code",
   "execution_count": 39,
   "metadata": {
    "scrolled": true
   },
   "outputs": [
    {
     "data": {
      "text/plain": [
       "tensor(1.2148)"
      ]
     },
     "execution_count": 39,
     "metadata": {},
     "output_type": "execute_result"
    }
   ],
   "source": [
    "ce(x, y)"
   ]
  },
  {
   "cell_type": "code",
   "execution_count": 40,
   "metadata": {},
   "outputs": [
    {
     "data": {
      "text/plain": [
       "tensor(1.3821)"
      ]
     },
     "execution_count": 40,
     "metadata": {},
     "output_type": "execute_result"
    }
   ],
   "source": [
    "ce(correct_x, correct_y)"
   ]
  },
  {
   "cell_type": "code",
   "execution_count": 41,
   "metadata": {},
   "outputs": [
    {
     "data": {
      "text/plain": [
       "tensor(0.8899)"
      ]
     },
     "execution_count": 41,
     "metadata": {},
     "output_type": "execute_result"
    }
   ],
   "source": [
    "bce(x_bce, y_bce)"
   ]
  },
  {
   "cell_type": "code",
   "execution_count": 42,
   "metadata": {},
   "outputs": [
    {
     "data": {
      "text/plain": [
       "tensor(0.9949)"
      ]
     },
     "execution_count": 42,
     "metadata": {},
     "output_type": "execute_result"
    }
   ],
   "source": [
    "bce(correct_x_bce, correct_y_bce)"
   ]
  },
  {
   "cell_type": "markdown",
   "metadata": {},
   "source": []
  },
  {
   "cell_type": "code",
   "execution_count": 43,
   "metadata": {},
   "outputs": [
    {
     "data": {
      "text/plain": [
       "tensor(19.4370)"
      ]
     },
     "execution_count": 43,
     "metadata": {},
     "output_type": "execute_result"
    }
   ],
   "source": [
    "torch.nn.functional.cross_entropy(x, y, reduction='none').sum()"
   ]
  },
  {
   "cell_type": "code",
   "execution_count": 44,
   "metadata": {},
   "outputs": [
    {
     "data": {
      "text/plain": [
       "tensor(15.2033)"
      ]
     },
     "execution_count": 44,
     "metadata": {},
     "output_type": "execute_result"
    }
   ],
   "source": [
    "torch.nn.functional.cross_entropy(correct_x, correct_y, reduction='none').sum()"
   ]
  },
  {
   "cell_type": "code",
   "execution_count": 45,
   "metadata": {},
   "outputs": [
    {
     "data": {
      "text/plain": [
       "tensor(1.2148)"
      ]
     },
     "execution_count": 45,
     "metadata": {},
     "output_type": "execute_result"
    }
   ],
   "source": [
    "torch.nn.functional.cross_entropy(x, y, reduction='none').mean()"
   ]
  },
  {
   "cell_type": "code",
   "execution_count": 46,
   "metadata": {},
   "outputs": [
    {
     "data": {
      "text/plain": [
       "tensor(1.3821)"
      ]
     },
     "execution_count": 46,
     "metadata": {},
     "output_type": "execute_result"
    }
   ],
   "source": [
    "torch.nn.functional.cross_entropy(correct_x, correct_y, reduction='none').mean()"
   ]
  },
  {
   "cell_type": "markdown",
   "metadata": {},
   "source": []
  },
  {
   "cell_type": "code",
   "execution_count": 47,
   "metadata": {},
   "outputs": [
    {
     "data": {
      "text/plain": [
       "tensor(14.2390)"
      ]
     },
     "execution_count": 47,
     "metadata": {},
     "output_type": "execute_result"
    }
   ],
   "source": [
    "torch.nn.functional.binary_cross_entropy(x_bce, y_bce, reduction='none').sum()"
   ]
  },
  {
   "cell_type": "code",
   "execution_count": 48,
   "metadata": {},
   "outputs": [
    {
     "data": {
      "text/plain": [
       "tensor(13.9280)"
      ]
     },
     "execution_count": 48,
     "metadata": {},
     "output_type": "execute_result"
    }
   ],
   "source": [
    "torch.nn.functional.binary_cross_entropy(correct_x_bce, correct_y_bce, reduction='none').sum()"
   ]
  },
  {
   "cell_type": "code",
   "execution_count": 49,
   "metadata": {},
   "outputs": [
    {
     "data": {
      "text/plain": [
       "tensor(1.2148)"
      ]
     },
     "execution_count": 49,
     "metadata": {},
     "output_type": "execute_result"
    }
   ],
   "source": [
    "torch.nn.functional.cross_entropy(x, y, reduction='none').mean()"
   ]
  },
  {
   "cell_type": "code",
   "execution_count": 50,
   "metadata": {},
   "outputs": [
    {
     "data": {
      "text/plain": [
       "tensor(1.3821)"
      ]
     },
     "execution_count": 50,
     "metadata": {},
     "output_type": "execute_result"
    }
   ],
   "source": [
    "torch.nn.functional.cross_entropy(correct_x, correct_y, reduction='none').mean()"
   ]
  },
  {
   "cell_type": "markdown",
   "metadata": {},
   "source": []
  },
  {
   "cell_type": "code",
   "execution_count": 52,
   "metadata": {},
   "outputs": [
    {
     "data": {
      "text/plain": [
       "(torch.Size([16, 1]), torch.Size([14, 1]))"
      ]
     },
     "execution_count": 52,
     "metadata": {},
     "output_type": "execute_result"
    }
   ],
   "source": [
    "x_bce.shape, correct_x_bce.shape"
   ]
  },
  {
   "cell_type": "code",
   "execution_count": null,
   "metadata": {},
   "outputs": [],
   "source": []
  },
  {
   "cell_type": "code",
   "execution_count": null,
   "metadata": {},
   "outputs": [],
   "source": []
  },
  {
   "cell_type": "code",
   "execution_count": null,
   "metadata": {},
   "outputs": [],
   "source": []
  },
  {
   "cell_type": "code",
   "execution_count": null,
   "metadata": {},
   "outputs": [],
   "source": []
  },
  {
   "cell_type": "code",
   "execution_count": null,
   "metadata": {},
   "outputs": [],
   "source": []
  },
  {
   "cell_type": "code",
   "execution_count": null,
   "metadata": {},
   "outputs": [],
   "source": []
  },
  {
   "cell_type": "code",
   "execution_count": 20,
   "metadata": {},
   "outputs": [
    {
     "data": {
      "text/plain": [
       "tensor([[0.4493, 0.5507],\n",
       "        [0.4477, 0.5523],\n",
       "        [0.3907, 0.6093],\n",
       "        [0.3113, 0.6887],\n",
       "        [0.2787, 0.7213],\n",
       "        [0.3697, 0.6303],\n",
       "        [0.3147, 0.6853],\n",
       "        [0.4481, 0.5519],\n",
       "        [0.3461, 0.6539],\n",
       "        [0.3035, 0.6965],\n",
       "        [0.4484, 0.5516],\n",
       "        [0.3018, 0.6982],\n",
       "        [0.3802, 0.6198],\n",
       "        [0.4817, 0.5183],\n",
       "        [0.2798, 0.7202],\n",
       "        [0.4948, 0.5052]])"
      ]
     },
     "execution_count": 20,
     "metadata": {},
     "output_type": "execute_result"
    }
   ],
   "source": [
    "torch.cat([1 - x_bce.sigmoid(), x_bce.sigmoid()], 1)"
   ]
  },
  {
   "cell_type": "code",
   "execution_count": 21,
   "metadata": {},
   "outputs": [],
   "source": [
    "v = torch.cat([1 - x_bce.sigmoid(), x_bce.sigmoid()], 1)[torch.arange(x_bce.size(0)), y_bce.squeeze().long()] < 0.6"
   ]
  },
  {
   "cell_type": "code",
   "execution_count": 22,
   "metadata": {},
   "outputs": [
    {
     "data": {
      "text/plain": [
       "tensor([1, 1, 0, 1, 0, 1, 0, 1, 0, 1, 1, 1, 0, 1, 0, 1], dtype=torch.uint8)"
      ]
     },
     "execution_count": 22,
     "metadata": {},
     "output_type": "execute_result"
    }
   ],
   "source": [
    "v"
   ]
  },
  {
   "cell_type": "code",
   "execution_count": 31,
   "metadata": {},
   "outputs": [
    {
     "data": {
      "text/plain": [
       "tensor([[0.5507, 0.0000],\n",
       "        [0.5523, 0.0000],\n",
       "        [0.6093, 1.0000],\n",
       "        [0.6887, 0.0000],\n",
       "        [0.7213, 1.0000],\n",
       "        [0.6303, 0.0000],\n",
       "        [0.6853, 1.0000],\n",
       "        [0.5519, 1.0000],\n",
       "        [0.6539, 1.0000],\n",
       "        [0.6965, 0.0000],\n",
       "        [0.5516, 0.0000],\n",
       "        [0.6982, 0.0000],\n",
       "        [0.6198, 1.0000],\n",
       "        [0.5183, 0.0000],\n",
       "        [0.7202, 1.0000],\n",
       "        [0.5052, 1.0000]])"
      ]
     },
     "execution_count": 31,
     "metadata": {},
     "output_type": "execute_result"
    }
   ],
   "source": [
    "torch.cat([x_bce.sigmoid(), y_bce], dim=1)"
   ]
  },
  {
   "cell_type": "code",
   "execution_count": 32,
   "metadata": {},
   "outputs": [
    {
     "data": {
      "text/plain": [
       "tensor([[0.5507, 0.0000],\n",
       "        [0.5523, 0.0000],\n",
       "        [0.6887, 0.0000],\n",
       "        [0.6303, 0.0000],\n",
       "        [0.5519, 1.0000],\n",
       "        [0.6965, 0.0000],\n",
       "        [0.5516, 0.0000],\n",
       "        [0.6982, 0.0000],\n",
       "        [0.5183, 0.0000],\n",
       "        [0.5052, 1.0000]])"
      ]
     },
     "execution_count": 32,
     "metadata": {},
     "output_type": "execute_result"
    }
   ],
   "source": [
    "torch.cat([x_bce[v].sigmoid(), y_bce[v]], dim=1)"
   ]
  },
  {
   "cell_type": "code",
   "execution_count": 30,
   "metadata": {},
   "outputs": [
    {
     "data": {
      "text/plain": [
       "tensor([[0.5507],\n",
       "        [0.5523],\n",
       "        [0.6887],\n",
       "        [0.6303],\n",
       "        [0.5519],\n",
       "        [0.6965],\n",
       "        [0.5516],\n",
       "        [0.6982],\n",
       "        [0.5183],\n",
       "        [0.5052]])"
      ]
     },
     "execution_count": 30,
     "metadata": {},
     "output_type": "execute_result"
    }
   ],
   "source": [
    "x_bce[v].sigmoid()"
   ]
  },
  {
   "cell_type": "code",
   "execution_count": 28,
   "metadata": {},
   "outputs": [
    {
     "data": {
      "text/plain": [
       "tensor([[0.],\n",
       "        [0.],\n",
       "        [1.],\n",
       "        [0.],\n",
       "        [1.],\n",
       "        [0.],\n",
       "        [1.],\n",
       "        [1.],\n",
       "        [1.],\n",
       "        [0.],\n",
       "        [0.],\n",
       "        [0.],\n",
       "        [1.],\n",
       "        [0.],\n",
       "        [1.],\n",
       "        [1.]])"
      ]
     },
     "execution_count": 28,
     "metadata": {},
     "output_type": "execute_result"
    }
   ],
   "source": [
    "y_bce"
   ]
  },
  {
   "cell_type": "code",
   "execution_count": 26,
   "metadata": {},
   "outputs": [
    {
     "data": {
      "text/plain": [
       "tensor([[0.],\n",
       "        [0.],\n",
       "        [0.],\n",
       "        [0.],\n",
       "        [1.],\n",
       "        [0.],\n",
       "        [0.],\n",
       "        [0.],\n",
       "        [0.],\n",
       "        [1.]])"
      ]
     },
     "execution_count": 26,
     "metadata": {},
     "output_type": "execute_result"
    }
   ],
   "source": [
    "y_bce[v]"
   ]
  },
  {
   "cell_type": "code",
   "execution_count": null,
   "metadata": {},
   "outputs": [],
   "source": []
  },
  {
   "cell_type": "code",
   "execution_count": null,
   "metadata": {},
   "outputs": [],
   "source": []
  },
  {
   "cell_type": "code",
   "execution_count": null,
   "metadata": {},
   "outputs": [],
   "source": []
  },
  {
   "cell_type": "code",
   "execution_count": null,
   "metadata": {},
   "outputs": [],
   "source": []
  },
  {
   "cell_type": "code",
   "execution_count": null,
   "metadata": {},
   "outputs": [],
   "source": []
  },
  {
   "cell_type": "code",
   "execution_count": null,
   "metadata": {},
   "outputs": [],
   "source": []
  },
  {
   "cell_type": "code",
   "execution_count": null,
   "metadata": {},
   "outputs": [],
   "source": []
  },
  {
   "cell_type": "code",
   "execution_count": null,
   "metadata": {},
   "outputs": [],
   "source": []
  },
  {
   "cell_type": "code",
   "execution_count": 36,
   "metadata": {},
   "outputs": [
    {
     "data": {
      "text/plain": [
       "tensor([[0.],\n",
       "        [0.],\n",
       "        [1.],\n",
       "        [0.],\n",
       "        [1.],\n",
       "        [0.],\n",
       "        [0.],\n",
       "        [1.],\n",
       "        [1.],\n",
       "        [1.],\n",
       "        [0.],\n",
       "        [0.],\n",
       "        [1.],\n",
       "        [0.],\n",
       "        [1.],\n",
       "        [0.]])"
      ]
     },
     "execution_count": 36,
     "metadata": {},
     "output_type": "execute_result"
    }
   ],
   "source": [
    "y_bce"
   ]
  },
  {
   "cell_type": "code",
   "execution_count": null,
   "metadata": {},
   "outputs": [],
   "source": []
  },
  {
   "cell_type": "code",
   "execution_count": null,
   "metadata": {},
   "outputs": [],
   "source": []
  },
  {
   "cell_type": "code",
   "execution_count": null,
   "metadata": {},
   "outputs": [],
   "source": []
  },
  {
   "cell_type": "code",
   "execution_count": 28,
   "metadata": {},
   "outputs": [
    {
     "data": {
      "text/plain": [
       "tensor([[0.],\n",
       "        [1.],\n",
       "        [1.],\n",
       "        [0.],\n",
       "        [0.],\n",
       "        [0.],\n",
       "        [1.],\n",
       "        [1.],\n",
       "        [0.],\n",
       "        [1.],\n",
       "        [1.]])"
      ]
     },
     "execution_count": 28,
     "metadata": {},
     "output_type": "execute_result"
    }
   ],
   "source": [
    "correct_y_bce"
   ]
  },
  {
   "cell_type": "code",
   "execution_count": null,
   "metadata": {},
   "outputs": [],
   "source": []
  },
  {
   "cell_type": "code",
   "execution_count": null,
   "metadata": {},
   "outputs": [],
   "source": []
  },
  {
   "cell_type": "code",
   "execution_count": null,
   "metadata": {},
   "outputs": [],
   "source": []
  },
  {
   "cell_type": "code",
   "execution_count": null,
   "metadata": {},
   "outputs": [],
   "source": []
  },
  {
   "cell_type": "code",
   "execution_count": null,
   "metadata": {},
   "outputs": [],
   "source": []
  },
  {
   "cell_type": "code",
   "execution_count": null,
   "metadata": {},
   "outputs": [],
   "source": []
  },
  {
   "cell_type": "code",
   "execution_count": null,
   "metadata": {},
   "outputs": [],
   "source": []
  },
  {
   "cell_type": "code",
   "execution_count": null,
   "metadata": {},
   "outputs": [],
   "source": [
    "y_bce"
   ]
  },
  {
   "cell_type": "code",
   "execution_count": 34,
   "metadata": {},
   "outputs": [
    {
     "data": {
      "text/plain": [
       "tensor([[0.1324, 0.8676],\n",
       "        [0.1363, 0.8637],\n",
       "        [0.7959, 0.2041],\n",
       "        [0.9757, 0.0243],\n",
       "        [0.6859, 0.3141],\n",
       "        [0.3005, 0.6995],\n",
       "        [0.9738, 0.0262],\n",
       "        [0.9899, 0.0101],\n",
       "        [0.1301, 0.8699],\n",
       "        [0.0762, 0.9238],\n",
       "        [0.3902, 0.6098],\n",
       "        [0.1348, 0.8652],\n",
       "        [0.1915, 0.8085],\n",
       "        [0.6585, 0.3415],\n",
       "        [0.4191, 0.5809],\n",
       "        [0.7086, 0.2914],\n",
       "        [0.9216, 0.0784],\n",
       "        [0.8812, 0.1188],\n",
       "        [0.9269, 0.0731],\n",
       "        [0.2811, 0.7189],\n",
       "        [0.2264, 0.7736],\n",
       "        [0.3745, 0.6255],\n",
       "        [0.3502, 0.6498],\n",
       "        [0.3994, 0.6006],\n",
       "        [0.2342, 0.7658],\n",
       "        [0.0527, 0.9473],\n",
       "        [0.2389, 0.7611],\n",
       "        [0.6894, 0.3106],\n",
       "        [0.2485, 0.7515],\n",
       "        [0.9192, 0.0808],\n",
       "        [0.4663, 0.5337],\n",
       "        [0.9507, 0.0493]])"
      ]
     },
     "execution_count": 34,
     "metadata": {},
     "output_type": "execute_result"
    }
   ],
   "source": [
    "torch.cat([x_bce, 1 - x_bce], dim=1)"
   ]
  },
  {
   "cell_type": "code",
   "execution_count": 32,
   "metadata": {},
   "outputs": [
    {
     "data": {
      "text/plain": [
       "tensor([[0.8676],\n",
       "        [0.8637],\n",
       "        [0.2041],\n",
       "        [0.0243],\n",
       "        [0.3141],\n",
       "        [0.6995],\n",
       "        [0.0262],\n",
       "        [0.0101],\n",
       "        [0.8699],\n",
       "        [0.9238],\n",
       "        [0.6098],\n",
       "        [0.8652],\n",
       "        [0.8085],\n",
       "        [0.3415],\n",
       "        [0.5809],\n",
       "        [0.2914],\n",
       "        [0.0784],\n",
       "        [0.1188],\n",
       "        [0.0731],\n",
       "        [0.7189],\n",
       "        [0.7736],\n",
       "        [0.6255],\n",
       "        [0.6498],\n",
       "        [0.6006],\n",
       "        [0.7658],\n",
       "        [0.9473],\n",
       "        [0.7611],\n",
       "        [0.3106],\n",
       "        [0.7515],\n",
       "        [0.0808],\n",
       "        [0.5337],\n",
       "        [0.0493]])"
      ]
     },
     "execution_count": 32,
     "metadata": {},
     "output_type": "execute_result"
    }
   ],
   "source": [
    "1 - x_bce"
   ]
  },
  {
   "cell_type": "code",
   "execution_count": null,
   "metadata": {},
   "outputs": [],
   "source": []
  },
  {
   "cell_type": "code",
   "execution_count": null,
   "metadata": {},
   "outputs": [],
   "source": []
  },
  {
   "cell_type": "code",
   "execution_count": null,
   "metadata": {},
   "outputs": [],
   "source": []
  },
  {
   "cell_type": "code",
   "execution_count": null,
   "metadata": {},
   "outputs": [],
   "source": []
  },
  {
   "cell_type": "code",
   "execution_count": null,
   "metadata": {},
   "outputs": [],
   "source": []
  },
  {
   "cell_type": "code",
   "execution_count": null,
   "metadata": {},
   "outputs": [],
   "source": []
  },
  {
   "cell_type": "code",
   "execution_count": null,
   "metadata": {},
   "outputs": [],
   "source": []
  },
  {
   "cell_type": "code",
   "execution_count": null,
   "metadata": {},
   "outputs": [],
   "source": []
  },
  {
   "cell_type": "code",
   "execution_count": null,
   "metadata": {},
   "outputs": [],
   "source": []
  },
  {
   "cell_type": "code",
   "execution_count": null,
   "metadata": {},
   "outputs": [],
   "source": []
  },
  {
   "cell_type": "code",
   "execution_count": null,
   "metadata": {},
   "outputs": [],
   "source": []
  },
  {
   "cell_type": "code",
   "execution_count": 4,
   "metadata": {},
   "outputs": [],
   "source": [
    "from tsa import TrainingSignalAnnealing"
   ]
  },
  {
   "cell_type": "code",
   "execution_count": 15,
   "metadata": {},
   "outputs": [],
   "source": [
    "ce_tsa = TrainingSignalAnnealing(total_steps=T, n_classes=k)\n",
    "bce_tsa = TrainingSignalAnnealing(total_steps=T, n_classes=2, current_step=T//3)"
   ]
  },
  {
   "cell_type": "code",
   "execution_count": 16,
   "metadata": {},
   "outputs": [
    {
     "data": {
      "text/plain": [
       "15625"
      ]
     },
     "execution_count": 16,
     "metadata": {},
     "output_type": "execute_result"
    }
   ],
   "source": [
    "bce_tsa.current_step"
   ]
  },
  {
   "cell_type": "code",
   "execution_count": 19,
   "metadata": {},
   "outputs": [],
   "source": [
    "correct_x, correct_y = ce_tsa.get_correct_samples_cross_entropy(x, y)"
   ]
  },
  {
   "cell_type": "code",
   "execution_count": 20,
   "metadata": {},
   "outputs": [
    {
     "data": {
      "text/plain": [
       "tensor([[0.1655, 0.1124, 0.6736],\n",
       "        [0.4703, 0.0212, 0.1635],\n",
       "        [0.0638, 0.0061, 0.6030],\n",
       "        [0.5278, 0.4959, 0.9445],\n",
       "        [0.9938, 0.0848, 0.0258],\n",
       "        [0.6418, 0.7603, 0.4106],\n",
       "        [0.0829, 0.0215, 0.0387],\n",
       "        [0.3007, 0.4660, 0.3120],\n",
       "        [0.9687, 0.7835, 0.8985],\n",
       "        [0.7599, 0.7998, 0.9703],\n",
       "        [0.7600, 0.4346, 0.3496],\n",
       "        [0.9362, 0.2449, 0.3165],\n",
       "        [0.7883, 0.2650, 0.0989],\n",
       "        [0.7308, 0.1244, 0.0143],\n",
       "        [0.7175, 0.9298, 0.9245],\n",
       "        [0.5261, 0.1299, 0.1020],\n",
       "        [0.8989, 0.1776, 0.4456],\n",
       "        [0.1235, 0.8560, 0.7115],\n",
       "        [0.6820, 0.3300, 0.5027],\n",
       "        [0.8560, 0.2297, 0.0569],\n",
       "        [0.0821, 0.8648, 0.4496]])"
      ]
     },
     "execution_count": 20,
     "metadata": {},
     "output_type": "execute_result"
    }
   ],
   "source": [
    "correct_x"
   ]
  },
  {
   "cell_type": "code",
   "execution_count": 21,
   "metadata": {},
   "outputs": [
    {
     "data": {
      "text/plain": [
       "tensor([1, 1, 0, 0, 1, 2, 1, 2, 1, 0, 2, 2, 2, 1, 0, 2, 2, 0, 1, 1, 2])"
      ]
     },
     "execution_count": 21,
     "metadata": {},
     "output_type": "execute_result"
    }
   ],
   "source": [
    "correct_y"
   ]
  },
  {
   "cell_type": "code",
   "execution_count": 22,
   "metadata": {},
   "outputs": [
    {
     "data": {
      "text/plain": [
       "torch.Size([21, 3])"
      ]
     },
     "execution_count": 22,
     "metadata": {},
     "output_type": "execute_result"
    }
   ],
   "source": [
    "correct_x.shape"
   ]
  },
  {
   "cell_type": "code",
   "execution_count": 23,
   "metadata": {},
   "outputs": [],
   "source": [
    "x_bce = torch.rand(32, 1)\n",
    "y_bce = torch.randint(2, (32, )).float()"
   ]
  },
  {
   "cell_type": "code",
   "execution_count": 24,
   "metadata": {},
   "outputs": [
    {
     "data": {
      "text/plain": [
       "tensor([[0.4854],\n",
       "        [0.4679],\n",
       "        [0.0448],\n",
       "        [0.0484],\n",
       "        [0.4808],\n",
       "        [0.2458],\n",
       "        [0.0348],\n",
       "        [0.6903],\n",
       "        [0.3724],\n",
       "        [0.7216],\n",
       "        [0.6712],\n",
       "        [0.1187],\n",
       "        [0.3018],\n",
       "        [0.1883],\n",
       "        [0.9564],\n",
       "        [0.4665],\n",
       "        [0.9013],\n",
       "        [0.2297],\n",
       "        [0.7373],\n",
       "        [0.9831],\n",
       "        [0.2315],\n",
       "        [0.1688],\n",
       "        [0.8485],\n",
       "        [0.9629],\n",
       "        [0.4858],\n",
       "        [0.6135],\n",
       "        [0.1187],\n",
       "        [0.5083],\n",
       "        [0.5408],\n",
       "        [0.3372],\n",
       "        [0.9907],\n",
       "        [0.5063]])"
      ]
     },
     "execution_count": 24,
     "metadata": {},
     "output_type": "execute_result"
    }
   ],
   "source": [
    "x_bce"
   ]
  },
  {
   "cell_type": "code",
   "execution_count": 25,
   "metadata": {},
   "outputs": [],
   "source": [
    "correct_x_bce, correct_y_bce = bce_tsa.get_correct_samples_binary_cross_entropy(x_bce, y_bce)"
   ]
  },
  {
   "cell_type": "code",
   "execution_count": 26,
   "metadata": {},
   "outputs": [
    {
     "data": {
      "text/plain": [
       "tensor([0.4854, 0.4679, 0.0448, 0.0484, 0.4808, 0.2458, 0.0348, 0.6903, 0.3724,\n",
       "        0.6712, 0.1187, 0.3018, 0.1883, 0.4665, 0.2297, 0.2315, 0.1688, 0.4858,\n",
       "        0.6135, 0.1187, 0.5083, 0.5408, 0.3372, 0.5063])"
      ]
     },
     "execution_count": 26,
     "metadata": {},
     "output_type": "execute_result"
    }
   ],
   "source": [
    "correct_x_bce"
   ]
  },
  {
   "cell_type": "code",
   "execution_count": 27,
   "metadata": {},
   "outputs": [
    {
     "data": {
      "text/plain": [
       "tensor([0., 0., 1., 0., 1., 0., 1., 0., 0., 0., 0., 1., 1., 0., 1., 0., 1., 1.,\n",
       "        1., 1., 1., 1., 1., 1.])"
      ]
     },
     "execution_count": 27,
     "metadata": {},
     "output_type": "execute_result"
    }
   ],
   "source": [
    "correct_y_bce"
   ]
  },
  {
   "cell_type": "code",
   "execution_count": null,
   "metadata": {},
   "outputs": [],
   "source": []
  },
  {
   "cell_type": "code",
   "execution_count": null,
   "metadata": {},
   "outputs": [],
   "source": []
  },
  {
   "cell_type": "code",
   "execution_count": null,
   "metadata": {},
   "outputs": [],
   "source": []
  },
  {
   "cell_type": "code",
   "execution_count": 16,
   "metadata": {},
   "outputs": [
    {
     "data": {
      "text/plain": [
       "tensor([[0.7281],\n",
       "        [0.5358],\n",
       "        [0.5951],\n",
       "        [0.6268],\n",
       "        [0.5771],\n",
       "        [0.6615],\n",
       "        [0.7106],\n",
       "        [0.6849],\n",
       "        [0.6844],\n",
       "        [0.6230],\n",
       "        [0.6951],\n",
       "        [0.7293],\n",
       "        [0.6937],\n",
       "        [0.6838],\n",
       "        [0.6793],\n",
       "        [0.5656],\n",
       "        [0.6919],\n",
       "        [0.6158],\n",
       "        [0.7205],\n",
       "        [0.6729],\n",
       "        [0.5971],\n",
       "        [0.6725],\n",
       "        [0.7210],\n",
       "        [0.5942],\n",
       "        [0.6208],\n",
       "        [0.6855],\n",
       "        [0.6791],\n",
       "        [0.7154],\n",
       "        [0.5906],\n",
       "        [0.6569],\n",
       "        [0.7095],\n",
       "        [0.6292]])"
      ]
     },
     "execution_count": 16,
     "metadata": {},
     "output_type": "execute_result"
    }
   ],
   "source": [
    "torch.sigmoid(x_bce)"
   ]
  },
  {
   "cell_type": "code",
   "execution_count": null,
   "metadata": {},
   "outputs": [],
   "source": []
  },
  {
   "cell_type": "code",
   "execution_count": null,
   "metadata": {},
   "outputs": [],
   "source": []
  },
  {
   "cell_type": "code",
   "execution_count": null,
   "metadata": {},
   "outputs": [],
   "source": []
  },
  {
   "cell_type": "code",
   "execution_count": null,
   "metadata": {},
   "outputs": [],
   "source": []
  },
  {
   "cell_type": "code",
   "execution_count": null,
   "metadata": {},
   "outputs": [],
   "source": []
  },
  {
   "cell_type": "code",
   "execution_count": null,
   "metadata": {},
   "outputs": [],
   "source": []
  },
  {
   "cell_type": "code",
   "execution_count": null,
   "metadata": {},
   "outputs": [],
   "source": []
  },
  {
   "cell_type": "code",
   "execution_count": null,
   "metadata": {},
   "outputs": [],
   "source": []
  },
  {
   "cell_type": "code",
   "execution_count": 7,
   "metadata": {},
   "outputs": [
    {
     "data": {
      "text/plain": [
       "torch.Size([16, 3])"
      ]
     },
     "execution_count": 7,
     "metadata": {},
     "output_type": "execute_result"
    }
   ],
   "source": [
    "correct_x.shape"
   ]
  },
  {
   "cell_type": "code",
   "execution_count": 8,
   "metadata": {},
   "outputs": [],
   "source": [
    "criterion = torch.nn.CrossEntropyLoss()"
   ]
  },
  {
   "cell_type": "code",
   "execution_count": 9,
   "metadata": {},
   "outputs": [
    {
     "data": {
      "text/plain": [
       "tensor(1.0943)"
      ]
     },
     "execution_count": 9,
     "metadata": {},
     "output_type": "execute_result"
    }
   ],
   "source": [
    "criterion(x, y)"
   ]
  },
  {
   "cell_type": "code",
   "execution_count": 10,
   "metadata": {},
   "outputs": [
    {
     "data": {
      "text/plain": [
       "tensor(0.8846)"
      ]
     },
     "execution_count": 10,
     "metadata": {},
     "output_type": "execute_result"
    }
   ],
   "source": [
    "criterion(correct_x, correct_y)"
   ]
  },
  {
   "cell_type": "code",
   "execution_count": 13,
   "metadata": {},
   "outputs": [],
   "source": [
    "x = torch.rand(32, 1)\n",
    "y = torch.randint(2, (32, ))"
   ]
  },
  {
   "cell_type": "code",
   "execution_count": 44,
   "metadata": {},
   "outputs": [],
   "source": [
    "y = y.float()"
   ]
  },
  {
   "cell_type": "code",
   "execution_count": 45,
   "metadata": {},
   "outputs": [
    {
     "data": {
      "text/plain": [
       "tensor([[7.3594e-01],\n",
       "        [7.0448e-01],\n",
       "        [1.2676e-01],\n",
       "        [2.9827e-01],\n",
       "        [5.2283e-01],\n",
       "        [5.4664e-01],\n",
       "        [4.2617e-01],\n",
       "        [7.4621e-02],\n",
       "        [4.0153e-02],\n",
       "        [4.1965e-01],\n",
       "        [2.7685e-01],\n",
       "        [4.1835e-01],\n",
       "        [3.9072e-01],\n",
       "        [5.1403e-01],\n",
       "        [9.5017e-01],\n",
       "        [5.0444e-01],\n",
       "        [1.8969e-01],\n",
       "        [5.1329e-01],\n",
       "        [4.6291e-01],\n",
       "        [5.0513e-01],\n",
       "        [7.1544e-01],\n",
       "        [7.3596e-01],\n",
       "        [1.6324e-01],\n",
       "        [8.1298e-01],\n",
       "        [8.7116e-01],\n",
       "        [7.1066e-01],\n",
       "        [8.9045e-01],\n",
       "        [4.8012e-04],\n",
       "        [2.0487e-01],\n",
       "        [1.0946e-01],\n",
       "        [3.4341e-01],\n",
       "        [2.1718e-01]])"
      ]
     },
     "execution_count": 45,
     "metadata": {},
     "output_type": "execute_result"
    }
   ],
   "source": [
    "x"
   ]
  },
  {
   "cell_type": "code",
   "execution_count": 46,
   "metadata": {},
   "outputs": [
    {
     "data": {
      "text/plain": [
       "tensor([0., 0., 1., 0., 1., 1., 0., 1., 0., 0., 1., 0., 0., 1., 0., 0., 0., 0.,\n",
       "        0., 1., 1., 0., 0., 1., 1., 1., 0., 1., 1., 1., 1., 0.])"
      ]
     },
     "execution_count": 46,
     "metadata": {},
     "output_type": "execute_result"
    }
   ],
   "source": [
    "y"
   ]
  },
  {
   "cell_type": "code",
   "execution_count": 47,
   "metadata": {},
   "outputs": [
    {
     "name": "stderr",
     "output_type": "stream",
     "text": [
      "/anaconda3/lib/python3.7/site-packages/torch/nn/functional.py:1332: UserWarning: nn.functional.sigmoid is deprecated. Use torch.sigmoid instead.\n",
      "  warnings.warn(\"nn.functional.sigmoid is deprecated. Use torch.sigmoid instead.\")\n"
     ]
    },
    {
     "data": {
      "text/plain": [
       "tensor([[0.6761],\n",
       "        [0.6692],\n",
       "        [0.5316],\n",
       "        [0.5740],\n",
       "        [0.6278],\n",
       "        [0.6334],\n",
       "        [0.6050],\n",
       "        [0.5186],\n",
       "        [0.5100],\n",
       "        [0.6034],\n",
       "        [0.5688],\n",
       "        [0.6031],\n",
       "        [0.5965],\n",
       "        [0.6258],\n",
       "        [0.7212],\n",
       "        [0.6235],\n",
       "        [0.5473],\n",
       "        [0.6256],\n",
       "        [0.6137],\n",
       "        [0.6237],\n",
       "        [0.6716],\n",
       "        [0.6761],\n",
       "        [0.5407],\n",
       "        [0.6927],\n",
       "        [0.7050],\n",
       "        [0.6705],\n",
       "        [0.7090],\n",
       "        [0.5001],\n",
       "        [0.5510],\n",
       "        [0.5273],\n",
       "        [0.5850],\n",
       "        [0.5541]])"
      ]
     },
     "execution_count": 47,
     "metadata": {},
     "output_type": "execute_result"
    }
   ],
   "source": [
    "torch.nn.functional.sigmoid(x)"
   ]
  },
  {
   "cell_type": "code",
   "execution_count": 48,
   "metadata": {},
   "outputs": [
    {
     "data": {
      "text/plain": [
       "[tensor([ 0,  1,  2,  3,  4,  5,  6,  7,  8,  9, 10, 11, 12, 13, 14, 15, 16, 17,\n",
       "         18, 19, 20, 21, 22, 23, 24, 25, 26, 27, 28, 29, 30, 31]),\n",
       " tensor([0., 0., 1., 0., 1., 1., 0., 1., 0., 0., 1., 0., 0., 1., 0., 0., 0., 0.,\n",
       "         0., 1., 1., 0., 0., 1., 1., 1., 0., 1., 1., 1., 1., 0.])]"
      ]
     },
     "execution_count": 48,
     "metadata": {},
     "output_type": "execute_result"
    }
   ],
   "source": [
    "[torch.arange(x.size(0)), y]"
   ]
  },
  {
   "cell_type": "code",
   "execution_count": 49,
   "metadata": {},
   "outputs": [],
   "source": [
    "ind = torch.nn.functional.sigmoid(x) > 0.6"
   ]
  },
  {
   "cell_type": "code",
   "execution_count": 50,
   "metadata": {},
   "outputs": [
    {
     "data": {
      "text/plain": [
       "tensor([0.7359, 0.7045, 0.5228, 0.5466, 0.4262, 0.4197, 0.4183, 0.5140, 0.9502,\n",
       "        0.5044, 0.5133, 0.4629, 0.5051, 0.7154, 0.7360, 0.8130, 0.8712, 0.7107,\n",
       "        0.8904])"
      ]
     },
     "execution_count": 50,
     "metadata": {},
     "output_type": "execute_result"
    }
   ],
   "source": [
    "x[ind]"
   ]
  },
  {
   "cell_type": "code",
   "execution_count": 52,
   "metadata": {},
   "outputs": [],
   "source": [
    "correct_x = x[ind]"
   ]
  },
  {
   "cell_type": "code",
   "execution_count": 53,
   "metadata": {},
   "outputs": [],
   "source": [
    "correct_y = y[ind.squeeze()]"
   ]
  },
  {
   "cell_type": "code",
   "execution_count": 54,
   "metadata": {},
   "outputs": [],
   "source": [
    "bce = torch.nn.BCELoss()"
   ]
  },
  {
   "cell_type": "code",
   "execution_count": 55,
   "metadata": {},
   "outputs": [],
   "source": [
    "l = bce(correct_x, correct_y)"
   ]
  },
  {
   "cell_type": "code",
   "execution_count": 56,
   "metadata": {},
   "outputs": [
    {
     "data": {
      "text/plain": [
       "tensor(0.8632)"
      ]
     },
     "execution_count": 56,
     "metadata": {},
     "output_type": "execute_result"
    }
   ],
   "source": [
    "l"
   ]
  },
  {
   "cell_type": "code",
   "execution_count": null,
   "metadata": {},
   "outputs": [],
   "source": []
  },
  {
   "cell_type": "code",
   "execution_count": null,
   "metadata": {},
   "outputs": [],
   "source": []
  },
  {
   "cell_type": "code",
   "execution_count": null,
   "metadata": {},
   "outputs": [],
   "source": []
  },
  {
   "cell_type": "code",
   "execution_count": null,
   "metadata": {},
   "outputs": [],
   "source": []
  },
  {
   "cell_type": "code",
   "execution_count": null,
   "metadata": {},
   "outputs": [],
   "source": []
  },
  {
   "cell_type": "code",
   "execution_count": null,
   "metadata": {},
   "outputs": [],
   "source": []
  },
  {
   "cell_type": "code",
   "execution_count": null,
   "metadata": {},
   "outputs": [],
   "source": []
  },
  {
   "cell_type": "code",
   "execution_count": null,
   "metadata": {},
   "outputs": [],
   "source": []
  },
  {
   "cell_type": "code",
   "execution_count": null,
   "metadata": {},
   "outputs": [],
   "source": []
  },
  {
   "cell_type": "code",
   "execution_count": null,
   "metadata": {},
   "outputs": [],
   "source": []
  },
  {
   "cell_type": "code",
   "execution_count": null,
   "metadata": {},
   "outputs": [],
   "source": []
  },
  {
   "cell_type": "code",
   "execution_count": 29,
   "metadata": {},
   "outputs": [
    {
     "data": {
      "text/plain": [
       "tensor([[1],\n",
       "        [1],\n",
       "        [0],\n",
       "        [0],\n",
       "        [1],\n",
       "        [1],\n",
       "        [1],\n",
       "        [0],\n",
       "        [0],\n",
       "        [1],\n",
       "        [0],\n",
       "        [1],\n",
       "        [0],\n",
       "        [1],\n",
       "        [1],\n",
       "        [1],\n",
       "        [0],\n",
       "        [1],\n",
       "        [1],\n",
       "        [1],\n",
       "        [1],\n",
       "        [1],\n",
       "        [0],\n",
       "        [1],\n",
       "        [1],\n",
       "        [1],\n",
       "        [1],\n",
       "        [0],\n",
       "        [0],\n",
       "        [0],\n",
       "        [0],\n",
       "        [0]], dtype=torch.uint8)"
      ]
     },
     "execution_count": 29,
     "metadata": {},
     "output_type": "execute_result"
    }
   ],
   "source": [
    "ind"
   ]
  },
  {
   "cell_type": "code",
   "execution_count": null,
   "metadata": {},
   "outputs": [],
   "source": []
  },
  {
   "cell_type": "code",
   "execution_count": null,
   "metadata": {},
   "outputs": [],
   "source": []
  },
  {
   "cell_type": "code",
   "execution_count": null,
   "metadata": {},
   "outputs": [],
   "source": []
  },
  {
   "cell_type": "code",
   "execution_count": null,
   "metadata": {},
   "outputs": [],
   "source": []
  },
  {
   "cell_type": "code",
   "execution_count": 18,
   "metadata": {},
   "outputs": [
    {
     "ename": "RuntimeError",
     "evalue": "index 1 is out of bounds for dim with size 1",
     "output_type": "error",
     "traceback": [
      "\u001b[0;31m---------------------------------------------------------------------------\u001b[0m",
      "\u001b[0;31mRuntimeError\u001b[0m                              Traceback (most recent call last)",
      "\u001b[0;32m<ipython-input-18-c0e05191211e>\u001b[0m in \u001b[0;36m<module>\u001b[0;34m\u001b[0m\n\u001b[0;32m----> 1\u001b[0;31m \u001b[0mtorch\u001b[0m\u001b[0;34m.\u001b[0m\u001b[0mnn\u001b[0m\u001b[0;34m.\u001b[0m\u001b[0mfunctional\u001b[0m\u001b[0;34m.\u001b[0m\u001b[0msigmoid\u001b[0m\u001b[0;34m(\u001b[0m\u001b[0mx\u001b[0m\u001b[0;34m)\u001b[0m\u001b[0;34m[\u001b[0m\u001b[0mtorch\u001b[0m\u001b[0;34m.\u001b[0m\u001b[0marange\u001b[0m\u001b[0;34m(\u001b[0m\u001b[0mx\u001b[0m\u001b[0;34m.\u001b[0m\u001b[0msize\u001b[0m\u001b[0;34m(\u001b[0m\u001b[0;36m0\u001b[0m\u001b[0;34m)\u001b[0m\u001b[0;34m)\u001b[0m\u001b[0;34m,\u001b[0m \u001b[0my\u001b[0m\u001b[0;34m]\u001b[0m \u001b[0;34m>\u001b[0m \u001b[0;36m0.6\u001b[0m\u001b[0;34m\u001b[0m\u001b[0;34m\u001b[0m\u001b[0m\n\u001b[0m",
      "\u001b[0;31mRuntimeError\u001b[0m: index 1 is out of bounds for dim with size 1"
     ]
    }
   ],
   "source": [
    "torch.nn.functional.sigmoid(x)[torch.arange(x.size(0)), y] > 0.6"
   ]
  },
  {
   "cell_type": "code",
   "execution_count": null,
   "metadata": {},
   "outputs": [],
   "source": []
  },
  {
   "cell_type": "code",
   "execution_count": null,
   "metadata": {},
   "outputs": [],
   "source": []
  },
  {
   "cell_type": "code",
   "execution_count": null,
   "metadata": {},
   "outputs": [],
   "source": []
  },
  {
   "cell_type": "code",
   "execution_count": null,
   "metadata": {},
   "outputs": [],
   "source": []
  },
  {
   "cell_type": "code",
   "execution_count": null,
   "metadata": {},
   "outputs": [],
   "source": []
  },
  {
   "cell_type": "code",
   "execution_count": null,
   "metadata": {},
   "outputs": [],
   "source": []
  },
  {
   "cell_type": "code",
   "execution_count": null,
   "metadata": {},
   "outputs": [],
   "source": []
  },
  {
   "cell_type": "code",
   "execution_count": null,
   "metadata": {},
   "outputs": [],
   "source": []
  },
  {
   "cell_type": "code",
   "execution_count": null,
   "metadata": {},
   "outputs": [],
   "source": []
  },
  {
   "cell_type": "code",
   "execution_count": null,
   "metadata": {},
   "outputs": [],
   "source": []
  },
  {
   "cell_type": "code",
   "execution_count": null,
   "metadata": {},
   "outputs": [],
   "source": []
  },
  {
   "cell_type": "code",
   "execution_count": 3,
   "metadata": {},
   "outputs": [],
   "source": [
    "from tsa import TrainingSignalAnnealing, TSAScheduleCrossEntropy"
   ]
  },
  {
   "cell_type": "code",
   "execution_count": 4,
   "metadata": {},
   "outputs": [],
   "source": [
    "tsa = TSAScheduleCrossEntropy(total_steps=T, n_classes=k, current_step=25000)"
   ]
  },
  {
   "cell_type": "code",
   "execution_count": 6,
   "metadata": {},
   "outputs": [],
   "source": [
    "loss = tsa(x, y)"
   ]
  },
  {
   "cell_type": "code",
   "execution_count": 7,
   "metadata": {},
   "outputs": [
    {
     "data": {
      "text/plain": [
       "(tensor([], size=(0, 3)), tensor([], dtype=torch.int64))"
      ]
     },
     "execution_count": 7,
     "metadata": {},
     "output_type": "execute_result"
    }
   ],
   "source": [
    "loss"
   ]
  },
  {
   "cell_type": "code",
   "execution_count": 8,
   "metadata": {},
   "outputs": [],
   "source": [
    "c = loss[0]"
   ]
  },
  {
   "cell_type": "code",
   "execution_count": 10,
   "metadata": {},
   "outputs": [
    {
     "data": {
      "text/plain": [
       "0"
      ]
     },
     "execution_count": 10,
     "metadata": {},
     "output_type": "execute_result"
    }
   ],
   "source": [
    "c.size(0)"
   ]
  },
  {
   "cell_type": "code",
   "execution_count": null,
   "metadata": {},
   "outputs": [],
   "source": []
  },
  {
   "cell_type": "code",
   "execution_count": null,
   "metadata": {},
   "outputs": [],
   "source": []
  },
  {
   "cell_type": "code",
   "execution_count": null,
   "metadata": {},
   "outputs": [],
   "source": []
  },
  {
   "cell_type": "code",
   "execution_count": 7,
   "metadata": {},
   "outputs": [],
   "source": [
    "c = torch.nn.CrossEntropyLoss()"
   ]
  },
  {
   "cell_type": "code",
   "execution_count": 8,
   "metadata": {},
   "outputs": [
    {
     "data": {
      "text/plain": [
       "tensor(1.1830)"
      ]
     },
     "execution_count": 8,
     "metadata": {},
     "output_type": "execute_result"
    }
   ],
   "source": [
    "loss"
   ]
  },
  {
   "cell_type": "code",
   "execution_count": 9,
   "metadata": {},
   "outputs": [
    {
     "data": {
      "text/plain": [
       "tensor(1.1830)"
      ]
     },
     "execution_count": 9,
     "metadata": {},
     "output_type": "execute_result"
    }
   ],
   "source": [
    "c(x, y)"
   ]
  },
  {
   "cell_type": "code",
   "execution_count": 11,
   "metadata": {},
   "outputs": [
    {
     "data": {
      "text/plain": [
       "tensor([[0.2763, 0.3981, 0.3256],\n",
       "        [0.5201, 0.2526, 0.2273],\n",
       "        [0.3419, 0.2956, 0.3625],\n",
       "        [0.3320, 0.3898, 0.2783],\n",
       "        [0.2613, 0.4685, 0.2701],\n",
       "        [0.2748, 0.2571, 0.4681],\n",
       "        [0.3689, 0.3952, 0.2359],\n",
       "        [0.3072, 0.3808, 0.3120],\n",
       "        [0.4417, 0.2922, 0.2661],\n",
       "        [0.2125, 0.3492, 0.4383],\n",
       "        [0.3602, 0.4103, 0.2296],\n",
       "        [0.2535, 0.2942, 0.4523],\n",
       "        [0.2842, 0.3519, 0.3639],\n",
       "        [0.5047, 0.3066, 0.1887],\n",
       "        [0.2432, 0.4634, 0.2934],\n",
       "        [0.3116, 0.3177, 0.3707],\n",
       "        [0.2547, 0.2733, 0.4719],\n",
       "        [0.2923, 0.3537, 0.3540],\n",
       "        [0.3562, 0.3838, 0.2599],\n",
       "        [0.4687, 0.2688, 0.2626],\n",
       "        [0.4192, 0.2460, 0.3348],\n",
       "        [0.4429, 0.2773, 0.2798],\n",
       "        [0.3447, 0.3870, 0.2683],\n",
       "        [0.2402, 0.3120, 0.4477],\n",
       "        [0.2171, 0.5632, 0.2198],\n",
       "        [0.4080, 0.3531, 0.2389],\n",
       "        [0.3373, 0.3935, 0.2692],\n",
       "        [0.3279, 0.2622, 0.4099],\n",
       "        [0.1739, 0.3906, 0.4355],\n",
       "        [0.4149, 0.2498, 0.3353],\n",
       "        [0.4224, 0.3325, 0.2451],\n",
       "        [0.4639, 0.2314, 0.3047]])"
      ]
     },
     "execution_count": 11,
     "metadata": {},
     "output_type": "execute_result"
    }
   ],
   "source": [
    "tsa.softmax(x)"
   ]
  },
  {
   "cell_type": "code",
   "execution_count": null,
   "metadata": {},
   "outputs": [],
   "source": []
  },
  {
   "cell_type": "code",
   "execution_count": null,
   "metadata": {},
   "outputs": [],
   "source": []
  },
  {
   "cell_type": "code",
   "execution_count": null,
   "metadata": {},
   "outputs": [],
   "source": []
  },
  {
   "cell_type": "code",
   "execution_count": null,
   "metadata": {},
   "outputs": [],
   "source": []
  },
  {
   "cell_type": "code",
   "execution_count": null,
   "metadata": {},
   "outputs": [],
   "source": []
  },
  {
   "cell_type": "code",
   "execution_count": null,
   "metadata": {},
   "outputs": [],
   "source": []
  },
  {
   "cell_type": "code",
   "execution_count": null,
   "metadata": {},
   "outputs": [],
   "source": []
  },
  {
   "cell_type": "code",
   "execution_count": null,
   "metadata": {},
   "outputs": [],
   "source": []
  },
  {
   "cell_type": "code",
   "execution_count": 4,
   "metadata": {},
   "outputs": [
    {
     "data": {
      "text/plain": [
       "<matplotlib.legend.Legend at 0x1165011d0>"
      ]
     },
     "execution_count": 4,
     "metadata": {},
     "output_type": "execute_result"
    },
    {
     "data": {
      "image/png": "[encoded data removed]",
      "text/plain": [
       "<Figure size 864x864 with 1 Axes>"
      ]
     },
     "metadata": {
      "needs_background": "light"
     },
     "output_type": "display_data"
    }
   ],
   "source": [
    "tsa_linear = TrainingSignalAnnealing(total_steps=T, n_classes=k)\n",
    "tsa_log = TrainingSignalAnnealing(total_steps=T, n_classes=k, schedule_type='log')\n",
    "tsa_exp = TrainingSignalAnnealing(total_steps=T, n_classes=k, schedule_type='exp')\n",
    "\n",
    "plt.figure(figsize=(12, 12))\n",
    "plt.plot([p for p in tsa_log], label='log')\n",
    "plt.plot([p for p in tsa_linear], label='linear')\n",
    "plt.plot([p for p in tsa_exp], label='exp')\n",
    "plt.legend()"
   ]
  },
  {
   "cell_type": "code",
   "execution_count": 5,
   "metadata": {},
   "outputs": [],
   "source": [
    "import torch"
   ]
  },
  {
   "cell_type": "code",
   "execution_count": 6,
   "metadata": {},
   "outputs": [],
   "source": [
    "class NN(torch.nn.Module):\n",
    "    \n",
    "    def __init__(self, in_features=128, out_features=3):\n",
    "        \n",
    "        super(NN, self).__init__()\n",
    "        \n",
    "        self.linear = torch.nn.Linear(in_features=in_features, out_features=out_features)\n",
    "        self.softmax = torch.nn.Softmax(dim=1)\n",
    "        \n",
    "    def forward(self, x):\n",
    "        \n",
    "        x = self.linear(x)\n",
    "        x = self.softmax(x)\n",
    "        \n",
    "        return x"
   ]
  },
  {
   "cell_type": "code",
   "execution_count": 7,
   "metadata": {},
   "outputs": [],
   "source": [
    "model = NN()"
   ]
  },
  {
   "cell_type": "code",
   "execution_count": 8,
   "metadata": {},
   "outputs": [
    {
     "data": {
      "text/plain": [
       "NN(\n",
       "  (linear): Linear(in_features=128, out_features=3, bias=True)\n",
       "  (softmax): Softmax()\n",
       ")"
      ]
     },
     "execution_count": 8,
     "metadata": {},
     "output_type": "execute_result"
    }
   ],
   "source": [
    "model"
   ]
  },
  {
   "cell_type": "code",
   "execution_count": 9,
   "metadata": {},
   "outputs": [
    {
     "data": {
      "text/plain": [
       "OrderedDict([('linear.weight',\n",
       "              tensor([[ 0.0514,  0.0774, -0.0051,  0.0142, -0.0567,  0.0317, -0.0883,  0.0132,\n",
       "                        0.0080,  0.0746, -0.0077, -0.0762, -0.0487,  0.0178, -0.0696, -0.0785,\n",
       "                        0.0130,  0.0506, -0.0868,  0.0601, -0.0364,  0.0485, -0.0746,  0.0216,\n",
       "                        0.0289,  0.0704,  0.0583, -0.0701,  0.0287, -0.0410, -0.0546, -0.0433,\n",
       "                       -0.0875, -0.0873,  0.0386, -0.0114,  0.0630, -0.0240,  0.0735, -0.0457,\n",
       "                       -0.0176,  0.0212,  0.0642,  0.0013,  0.0673,  0.0845, -0.0163, -0.0083,\n",
       "                       -0.0153, -0.0386, -0.0523,  0.0423,  0.0513,  0.0141, -0.0018, -0.0713,\n",
       "                       -0.0034, -0.0025,  0.0071, -0.0504, -0.0343, -0.0477, -0.0055, -0.0207,\n",
       "                       -0.0288, -0.0418,  0.0404, -0.0784, -0.0577,  0.0010, -0.0686, -0.0294,\n",
       "                        0.0083, -0.0256,  0.0866, -0.0593,  0.0316,  0.0314,  0.0022,  0.0872,\n",
       "                       -0.0180, -0.0757,  0.0150, -0.0343, -0.0155, -0.0046,  0.0819,  0.0790,\n",
       "                       -0.0817,  0.0253, -0.0333,  0.0565,  0.0706,  0.0302,  0.0182,  0.0032,\n",
       "                       -0.0703,  0.0591,  0.0011,  0.0536,  0.0347, -0.0666,  0.0163,  0.0648,\n",
       "                        0.0776, -0.0570, -0.0008,  0.0660, -0.0248,  0.0066, -0.0091, -0.0464,\n",
       "                       -0.0801,  0.0336, -0.0234, -0.0733, -0.0332, -0.0472, -0.0538,  0.0555,\n",
       "                        0.0242,  0.0078,  0.0165,  0.0415,  0.0246,  0.0176, -0.0184, -0.0320],\n",
       "                      [-0.0737,  0.0027,  0.0496, -0.0176, -0.0046, -0.0549,  0.0302, -0.0619,\n",
       "                       -0.0375, -0.0654,  0.0636,  0.0563, -0.0726, -0.0018,  0.0178,  0.0361,\n",
       "                       -0.0187,  0.0804,  0.0484,  0.0226, -0.0700, -0.0258,  0.0874, -0.0851,\n",
       "                        0.0448,  0.0820,  0.0716,  0.0634,  0.0723, -0.0760,  0.0482,  0.0146,\n",
       "                        0.0819, -0.0747,  0.0368,  0.0817, -0.0846, -0.0463,  0.0562,  0.0498,\n",
       "                        0.0020,  0.0703,  0.0008,  0.0603,  0.0414,  0.0242, -0.0634, -0.0448,\n",
       "                        0.0717, -0.0390,  0.0801, -0.0038,  0.0005, -0.0467, -0.0420, -0.0200,\n",
       "                       -0.0382, -0.0540,  0.0444, -0.0086, -0.0594,  0.0854, -0.0679,  0.0010,\n",
       "                        0.0189,  0.0326,  0.0833,  0.0724, -0.0233, -0.0504, -0.0596, -0.0419,\n",
       "                        0.0594, -0.0238,  0.0584,  0.0205, -0.0286, -0.0014,  0.0318, -0.0708,\n",
       "                       -0.0467,  0.0874,  0.0492, -0.0436, -0.0763, -0.0779, -0.0012, -0.0046,\n",
       "                       -0.0210,  0.0551, -0.0734, -0.0868, -0.0616,  0.0426, -0.0279,  0.0525,\n",
       "                        0.0403, -0.0684,  0.0128, -0.0675, -0.0369, -0.0144, -0.0232, -0.0038,\n",
       "                        0.0047,  0.0722, -0.0245, -0.0100,  0.0766, -0.0130,  0.0429,  0.0491,\n",
       "                       -0.0626,  0.0003, -0.0327, -0.0507, -0.0278,  0.0695, -0.0230,  0.0464,\n",
       "                        0.0179,  0.0470,  0.0530,  0.0018, -0.0308, -0.0704,  0.0848, -0.0323],\n",
       "                      [ 0.0403, -0.0880,  0.0661,  0.0518, -0.0550, -0.0636,  0.0139, -0.0114,\n",
       "                        0.0590, -0.0321,  0.0574,  0.0141,  0.0778,  0.0454, -0.0027,  0.0572,\n",
       "                       -0.0426, -0.0006, -0.0492,  0.0788,  0.0414,  0.0467,  0.0740, -0.0164,\n",
       "                       -0.0849, -0.0550, -0.0875,  0.0763, -0.0384,  0.0394,  0.0450,  0.0067,\n",
       "                        0.0079,  0.0343, -0.0665,  0.0857, -0.0525,  0.0121, -0.0341, -0.0212,\n",
       "                       -0.0761, -0.0468, -0.0355, -0.0266, -0.0639,  0.0581, -0.0149, -0.0709,\n",
       "                       -0.0396, -0.0212, -0.0880, -0.0129, -0.0647,  0.0062,  0.0176,  0.0711,\n",
       "                       -0.0088,  0.0177, -0.0083, -0.0226, -0.0726, -0.0241,  0.0627, -0.0309,\n",
       "                        0.0539,  0.0728,  0.0634,  0.0268, -0.0377,  0.0599, -0.0202, -0.0775,\n",
       "                       -0.0520, -0.0335,  0.0015,  0.0637,  0.0883, -0.0216,  0.0281,  0.0701,\n",
       "                        0.0816,  0.0001, -0.0188,  0.0481, -0.0635,  0.0411,  0.0208, -0.0859,\n",
       "                        0.0081,  0.0383,  0.0494, -0.0323, -0.0045, -0.0596, -0.0282,  0.0539,\n",
       "                        0.0480,  0.0731, -0.0541,  0.0341, -0.0812, -0.0279, -0.0523, -0.0258,\n",
       "                        0.0688,  0.0810,  0.0488, -0.0667,  0.0214, -0.0581,  0.0072, -0.0062,\n",
       "                        0.0132,  0.0184,  0.0873, -0.0835,  0.0229,  0.0303,  0.0352, -0.0527,\n",
       "                        0.0875, -0.0069, -0.0874,  0.0439, -0.0576, -0.0149, -0.0621, -0.0127]])),\n",
       "             ('linear.bias', tensor([-0.0169,  0.0296, -0.0324]))])"
      ]
     },
     "execution_count": 9,
     "metadata": {},
     "output_type": "execute_result"
    }
   ],
   "source": [
    "model.state_dict()"
   ]
  },
  {
   "cell_type": "code",
   "execution_count": 23,
   "metadata": {},
   "outputs": [],
   "source": [
    "optimizer = torch.optim.Adam(model.parameters())"
   ]
  },
  {
   "cell_type": "code",
   "execution_count": 24,
   "metadata": {},
   "outputs": [],
   "source": [
    "criterion = torch.nn.NLLLoss()"
   ]
  },
  {
   "cell_type": "code",
   "execution_count": 25,
   "metadata": {},
   "outputs": [],
   "source": [
    "x = torch.rand(32, 128)\n",
    "y = torch.randint(k, (32, ))\n",
    "p = 0.35"
   ]
  },
  {
   "cell_type": "code",
   "execution_count": 26,
   "metadata": {},
   "outputs": [],
   "source": [
    "pred = model(x)"
   ]
  },
  {
   "cell_type": "code",
   "execution_count": 41,
   "metadata": {},
   "outputs": [],
   "source": [
    "selected_pred = pred[pred[torch.arange(pred.size(0)), y] < p]"
   ]
  },
  {
   "cell_type": "code",
   "execution_count": 42,
   "metadata": {},
   "outputs": [
    {
     "data": {
      "text/plain": [
       "tensor([[0.3211, 0.3712, 0.3077],\n",
       "        [0.3714, 0.3604, 0.2682],\n",
       "        [0.2730, 0.4086, 0.3184],\n",
       "        [0.3090, 0.3298, 0.3612],\n",
       "        [0.3311, 0.3857, 0.2832],\n",
       "        [0.2622, 0.4204, 0.3174],\n",
       "        [0.2421, 0.4973, 0.2606],\n",
       "        [0.2786, 0.3365, 0.3850],\n",
       "        [0.3529, 0.3607, 0.2864],\n",
       "        [0.3006, 0.3143, 0.3851],\n",
       "        [0.2845, 0.3797, 0.3358],\n",
       "        [0.1855, 0.4294, 0.3851],\n",
       "        [0.3091, 0.3495, 0.3414],\n",
       "        [0.2679, 0.3523, 0.3797],\n",
       "        [0.2814, 0.3457, 0.3729],\n",
       "        [0.2770, 0.4619, 0.2612],\n",
       "        [0.2927, 0.3342, 0.3731],\n",
       "        [0.2202, 0.4531, 0.3266],\n",
       "        [0.2976, 0.4207, 0.2818],\n",
       "        [0.3373, 0.3456, 0.3172]], grad_fn=<IndexBackward>)"
      ]
     },
     "execution_count": 42,
     "metadata": {},
     "output_type": "execute_result"
    }
   ],
   "source": [
    "selected_pred"
   ]
  },
  {
   "cell_type": "code",
   "execution_count": 40,
   "metadata": {},
   "outputs": [],
   "source": [
    "selected_y = y[pred[torch.arange(pred.size(0)), y] < p]"
   ]
  },
  {
   "cell_type": "code",
   "execution_count": 47,
   "metadata": {},
   "outputs": [
    {
     "data": {
      "text/plain": [
       "0.3378252979993903"
      ]
     },
     "execution_count": 47,
     "metadata": {},
     "output_type": "execute_result"
    }
   ],
   "source": [
    "tsa_exp.calculate_step(0)"
   ]
  },
  {
   "cell_type": "code",
   "execution_count": null,
   "metadata": {},
   "outputs": [],
   "source": []
  },
  {
   "cell_type": "code",
   "execution_count": null,
   "metadata": {},
   "outputs": [],
   "source": []
  },
  {
   "cell_type": "code",
   "execution_count": null,
   "metadata": {},
   "outputs": [],
   "source": []
  },
  {
   "cell_type": "code",
   "execution_count": 43,
   "metadata": {},
   "outputs": [],
   "source": [
    "def selected_samples(predictions, p):\n",
    "    \n",
    "    return predictions[torch.arange(predictions.size(0)), y] < p"
   ]
  },
  {
   "cell_type": "code",
   "execution_count": 44,
   "metadata": {},
   "outputs": [
    {
     "data": {
      "text/plain": [
       "tensor([0, 1, 1, 1, 1, 0, 1, 0, 1, 0, 1, 1, 1, 1, 1, 0, 0, 1, 0, 0, 0, 1, 0, 0,\n",
       "        1, 1, 1, 0, 1, 1, 1, 1], dtype=torch.uint8)"
      ]
     },
     "execution_count": 44,
     "metadata": {},
     "output_type": "execute_result"
    }
   ],
   "source": [
    "selected_samples(pred, p)"
   ]
  },
  {
   "cell_type": "code",
   "execution_count": 45,
   "metadata": {},
   "outputs": [
    {
     "data": {
      "text/plain": [
       "tensor([0, 2, 0, 0, 0, 2, 2, 0, 2, 1, 0, 0, 1, 0, 0, 2, 1, 0, 0, 1])"
      ]
     },
     "execution_count": 45,
     "metadata": {},
     "output_type": "execute_result"
    }
   ],
   "source": [
    "y[selected_samples(pred, p)]"
   ]
  },
  {
   "cell_type": "code",
   "execution_count": null,
   "metadata": {},
   "outputs": [],
   "source": []
  },
  {
   "cell_type": "code",
   "execution_count": null,
   "metadata": {},
   "outputs": [],
   "source": []
  },
  {
   "cell_type": "code",
   "execution_count": null,
   "metadata": {},
   "outputs": [],
   "source": []
  },
  {
   "cell_type": "code",
   "execution_count": null,
   "metadata": {},
   "outputs": [],
   "source": []
  },
  {
   "cell_type": "code",
   "execution_count": 30,
   "metadata": {},
   "outputs": [
    {
     "data": {
      "text/plain": [
       "tensor([1, 1, 1, 1, 1, 1, 0, 2, 1, 1, 2, 1])"
      ]
     },
     "execution_count": 30,
     "metadata": {},
     "output_type": "execute_result"
    }
   ],
   "source": [
    "selected_y"
   ]
  },
  {
   "cell_type": "code",
   "execution_count": 31,
   "metadata": {},
   "outputs": [],
   "source": [
    "optimizer.zero_grad()"
   ]
  },
  {
   "cell_type": "code",
   "execution_count": 32,
   "metadata": {},
   "outputs": [],
   "source": [
    "loss = criterion(selected_pred, selected_y)"
   ]
  },
  {
   "cell_type": "code",
   "execution_count": 33,
   "metadata": {},
   "outputs": [],
   "source": [
    "loss.backward()"
   ]
  },
  {
   "cell_type": "code",
   "execution_count": 34,
   "metadata": {},
   "outputs": [],
   "source": [
    "optimizer.step()"
   ]
  },
  {
   "cell_type": "code",
   "execution_count": 36,
   "metadata": {},
   "outputs": [],
   "source": [
    "v = model.state_dict()"
   ]
  },
  {
   "cell_type": "code",
   "execution_count": 37,
   "metadata": {},
   "outputs": [
    {
     "data": {
      "text/plain": [
       "OrderedDict([('linear.weight',\n",
       "              tensor([[ 5.0351e-02,  7.6374e-02, -6.1370e-03,  1.3174e-02, -5.7739e-02,\n",
       "                        3.0674e-02, -8.9349e-02,  1.2147e-02,  7.0357e-03,  7.3549e-02,\n",
       "                       -8.7033e-03, -7.7263e-02, -4.9699e-02,  1.6781e-02, -7.0646e-02,\n",
       "                       -7.9541e-02,  1.1989e-02,  4.9599e-02, -8.7877e-02,  5.9105e-02,\n",
       "                       -3.7389e-02,  4.7476e-02, -7.5665e-02,  2.0573e-02,  2.7897e-02,\n",
       "                        6.9415e-02,  5.7267e-02, -7.1164e-02,  2.7676e-02, -4.2023e-02,\n",
       "                       -5.5622e-02, -4.4291e-02, -8.8519e-02, -8.8310e-02,  3.7552e-02,\n",
       "                       -1.2426e-02,  6.2034e-02, -2.5075e-02,  7.2467e-02, -4.6769e-02,\n",
       "                       -1.8616e-02,  2.0224e-02,  6.3121e-02,  2.3987e-04,  6.6316e-02,\n",
       "                        8.3504e-02, -1.7356e-02, -9.3007e-03, -1.6375e-02, -3.9642e-02,\n",
       "                       -5.3289e-02,  4.1312e-02,  5.0308e-02,  1.3050e-02, -2.8637e-03,\n",
       "                       -7.2356e-02, -4.3678e-03, -3.5236e-03,  6.0778e-03, -5.1378e-02,\n",
       "                       -3.5277e-02, -4.8772e-02, -6.4879e-03, -2.1755e-02, -2.9839e-02,\n",
       "                       -4.2817e-02,  3.9383e-02, -7.9464e-02, -5.8770e-02, -7.9382e-05,\n",
       "                       -6.9663e-02, -3.0469e-02,  7.3424e-03, -2.6649e-02,  8.5586e-02,\n",
       "                       -6.0286e-02,  3.0577e-02,  3.0422e-02,  1.1600e-03,  8.6212e-02,\n",
       "                       -1.9018e-02, -7.6760e-02,  1.3983e-02, -3.5376e-02, -1.6574e-02,\n",
       "                       -5.6633e-03,  8.0887e-02,  7.8024e-02, -8.2662e-02,  2.4290e-02,\n",
       "                       -3.4311e-02,  5.5456e-02,  6.9611e-02,  2.9127e-02,  1.7148e-02,\n",
       "                        2.1928e-03, -7.1308e-02,  5.8087e-02,  9.3493e-05,  5.2609e-02,\n",
       "                        3.3674e-02, -6.7662e-02,  1.5243e-02,  6.3759e-02,  7.6606e-02,\n",
       "                       -5.8028e-02, -1.8787e-03,  6.4972e-02, -2.5870e-02,  5.5347e-03,\n",
       "                       -1.0142e-02, -4.7398e-02, -8.1122e-02,  3.2586e-02, -2.4471e-02,\n",
       "                       -7.4293e-02, -3.4238e-02, -4.8201e-02, -5.4835e-02,  5.4470e-02,\n",
       "                        2.3204e-02,  6.7592e-03,  1.5496e-02,  4.0459e-02,  2.3587e-02,\n",
       "                        1.6547e-02, -1.9370e-02, -3.3056e-02],\n",
       "                      [-7.2689e-02,  3.7670e-03,  5.0700e-02, -1.6568e-02, -3.5747e-03,\n",
       "                       -5.3857e-02,  3.1261e-02, -6.0847e-02, -3.6511e-02, -6.4403e-02,\n",
       "                        6.4668e-02,  5.7314e-02, -7.1635e-02, -7.4928e-04,  1.8814e-02,\n",
       "                        3.7156e-02, -1.7628e-02,  8.1418e-02,  4.9470e-02,  2.3609e-02,\n",
       "                       -6.8929e-02, -2.4700e-02,  8.8470e-02, -8.4014e-02,  4.5879e-02,\n",
       "                        8.3053e-02,  7.2646e-02,  6.4463e-02,  7.3298e-02, -7.4979e-02,\n",
       "                        4.9203e-02,  1.5592e-02,  8.2993e-02, -7.3694e-02,  3.7813e-02,\n",
       "                        8.2802e-02, -8.3525e-02, -4.5186e-02,  5.7228e-02,  5.0899e-02,\n",
       "                        3.0865e-03,  7.1392e-02,  1.8764e-03,  6.1341e-02,  4.2453e-02,\n",
       "                        2.5275e-02, -6.2350e-02, -4.3775e-02,  7.2796e-02, -3.7983e-02,\n",
       "                        8.1110e-02, -2.7897e-03,  1.5182e-03, -4.5710e-02, -4.1017e-02,\n",
       "                       -1.9012e-02, -3.7153e-02, -5.2950e-02,  4.5472e-02, -7.5335e-03,\n",
       "                       -5.8401e-02,  8.6439e-02, -6.6887e-02,  2.0528e-03,  1.9954e-02,\n",
       "                        3.3659e-02,  8.4369e-02,  7.3413e-02, -2.2212e-02, -4.9344e-02,\n",
       "                       -5.8533e-02, -4.0818e-02,  6.0422e-02, -2.2789e-02,  5.9407e-02,\n",
       "                        2.1559e-02, -2.7625e-02, -3.7228e-04,  3.2833e-02, -6.9779e-02,\n",
       "                       -4.5679e-02,  8.8419e-02,  5.0166e-02, -4.2506e-02, -7.5270e-02,\n",
       "                       -7.6840e-02, -1.4997e-04, -3.5317e-03, -1.9927e-02,  5.6154e-02,\n",
       "                       -7.2309e-02, -8.5721e-02, -6.0566e-02,  4.3638e-02, -2.6812e-02,\n",
       "                        5.3568e-02,  4.1395e-02, -6.7399e-02,  1.3835e-02, -6.6463e-02,\n",
       "                       -3.5782e-02, -1.3375e-02, -2.2126e-02, -2.7703e-03,  5.6885e-03,\n",
       "                        7.3205e-02, -2.3491e-02, -8.9623e-03,  7.7659e-02, -1.1988e-02,\n",
       "                        4.3932e-02,  5.0127e-02, -6.1525e-02,  1.3646e-03, -3.1640e-02,\n",
       "                       -4.9670e-02, -2.6784e-02,  7.0510e-02, -2.1920e-02,  4.7485e-02,\n",
       "                        1.8945e-02,  4.8075e-02,  5.4061e-02,  2.8710e-03, -2.9757e-02,\n",
       "                       -6.9384e-02,  8.5840e-02, -3.1244e-02],\n",
       "                      [ 3.9287e-02, -8.8976e-02,  6.5131e-02,  5.0762e-02, -5.5971e-02,\n",
       "                       -6.4624e-02,  1.2934e-02, -1.2421e-02,  5.7968e-02, -3.3150e-02,\n",
       "                        5.6353e-02,  1.3094e-02,  7.6776e-02,  4.4347e-02, -3.7573e-03,\n",
       "                        5.6170e-02, -4.3585e-02, -1.5747e-03, -5.0245e-02,  7.7737e-02,\n",
       "                        4.0373e-02,  4.5681e-02,  7.2985e-02, -1.7393e-02, -8.5956e-02,\n",
       "                       -5.6052e-02, -8.8471e-02,  7.5263e-02, -3.9369e-02,  3.8349e-02,\n",
       "                        4.3969e-02,  5.6414e-03,  6.8520e-03,  3.3321e-02, -6.7447e-02,\n",
       "                        8.4687e-02, -5.3555e-02,  1.1086e-02, -3.5143e-02, -2.2273e-02,\n",
       "                       -7.7166e-02, -4.7808e-02, -3.6499e-02, -2.7668e-02, -6.4922e-02,\n",
       "                        5.7039e-02, -1.5860e-02, -7.1944e-02, -4.0633e-02, -2.2205e-02,\n",
       "                       -8.9020e-02, -1.3934e-02, -6.5783e-02,  5.1505e-03,  1.6581e-02,\n",
       "                        7.0090e-02, -9.7503e-03,  1.6666e-02, -9.2968e-03, -2.3604e-02,\n",
       "                       -7.3600e-02, -2.5146e-02,  6.1712e-02, -3.1951e-02,  5.2867e-02,\n",
       "                        7.1768e-02,  6.2353e-02,  2.5775e-02, -3.8749e-02,  5.8842e-02,\n",
       "                       -2.1155e-02, -7.8524e-02, -5.3042e-02, -3.4520e-02,  4.6316e-04,\n",
       "                        6.2691e-02,  8.7271e-02, -2.2591e-02,  2.7049e-02,  6.9108e-02,\n",
       "                        8.0646e-02, -8.7452e-04, -1.9820e-02,  4.7072e-02, -6.4558e-02,\n",
       "                        4.0061e-02,  1.9803e-02, -8.6904e-02,  7.0593e-03,  3.7293e-02,\n",
       "                        4.8408e-02, -3.3340e-02, -5.4866e-03, -6.0628e-02, -2.9195e-02,\n",
       "                        5.2937e-02,  4.6927e-02,  7.2042e-02, -5.5079e-02,  3.3096e-02,\n",
       "                       -8.2198e-02, -2.8904e-02, -5.3330e-02, -2.6858e-02,  6.7739e-02,\n",
       "                        8.0006e-02,  4.7757e-02, -6.7713e-02,  2.0327e-02, -5.9110e-02,\n",
       "                        6.2299e-03, -7.2060e-03,  1.2208e-02,  1.7354e-02,  8.6269e-02,\n",
       "                       -8.4558e-02,  2.1906e-02,  2.9271e-02,  3.4187e-02, -5.3760e-02,\n",
       "                        8.6469e-02, -7.8939e-03, -8.8439e-02,  4.2908e-02, -5.8618e-02,\n",
       "                       -1.5900e-02, -6.3097e-02, -1.3690e-02]])),\n",
       "             ('linear.bias', tensor([-0.0180,  0.0307, -0.0334]))])"
      ]
     },
     "execution_count": 37,
     "metadata": {},
     "output_type": "execute_result"
    }
   ],
   "source": [
    "v"
   ]
  },
  {
   "cell_type": "code",
   "execution_count": 39,
   "metadata": {},
   "outputs": [
    {
     "data": {
      "text/plain": [
       "torch.Size([3, 128])"
      ]
     },
     "execution_count": 39,
     "metadata": {},
     "output_type": "execute_result"
    }
   ],
   "source": [
    "v['linear.weight'].shape"
   ]
  },
  {
   "cell_type": "code",
   "execution_count": null,
   "metadata": {},
   "outputs": [],
   "source": []
  },
  {
   "cell_type": "code",
   "execution_count": null,
   "metadata": {},
   "outputs": [],
   "source": []
  },
  {
   "cell_type": "code",
   "execution_count": null,
   "metadata": {},
   "outputs": [],
   "source": []
  },
  {
   "cell_type": "code",
   "execution_count": null,
   "metadata": {},
   "outputs": [],
   "source": []
  },
  {
   "cell_type": "code",
   "execution_count": null,
   "metadata": {},
   "outputs": [],
   "source": []
  },
  {
   "cell_type": "code",
   "execution_count": null,
   "metadata": {},
   "outputs": [],
   "source": []
  },
  {
   "cell_type": "code",
   "execution_count": null,
   "metadata": {},
   "outputs": [],
   "source": []
  },
  {
   "cell_type": "code",
   "execution_count": null,
   "metadata": {},
   "outputs": [],
   "source": []
  },
  {
   "cell_type": "code",
   "execution_count": null,
   "metadata": {},
   "outputs": [],
   "source": []
  },
  {
   "cell_type": "code",
   "execution_count": null,
   "metadata": {},
   "outputs": [],
   "source": []
  },
  {
   "cell_type": "code",
   "execution_count": null,
   "metadata": {},
   "outputs": [],
   "source": []
  },
  {
   "cell_type": "code",
   "execution_count": null,
   "metadata": {},
   "outputs": [],
   "source": []
  },
  {
   "cell_type": "code",
   "execution_count": null,
   "metadata": {},
   "outputs": [],
   "source": []
  },
  {
   "cell_type": "code",
   "execution_count": null,
   "metadata": {},
   "outputs": [],
   "source": []
  },
  {
   "cell_type": "code",
   "execution_count": 143,
   "metadata": {},
   "outputs": [
    {
     "data": {
      "text/plain": [
       "tensor([[0.3626, 0.2230, 0.4144],\n",
       "        [0.3067, 0.2320, 0.4613],\n",
       "        [0.3019, 0.3498, 0.3483],\n",
       "        [0.2965, 0.2797, 0.4239],\n",
       "        [0.3263, 0.3053, 0.3684],\n",
       "        [0.3007, 0.2824, 0.4169],\n",
       "        [0.3886, 0.2399, 0.3715],\n",
       "        [0.4059, 0.3171, 0.2770],\n",
       "        [0.3648, 0.2109, 0.4242],\n",
       "        [0.3910, 0.2198, 0.3892],\n",
       "        [0.3369, 0.2468, 0.4163],\n",
       "        [0.3215, 0.2779, 0.4006],\n",
       "        [0.3571, 0.2976, 0.3453],\n",
       "        [0.3506, 0.2942, 0.3552],\n",
       "        [0.3834, 0.2187, 0.3979],\n",
       "        [0.2464, 0.2883, 0.4653],\n",
       "        [0.3443, 0.2758, 0.3799],\n",
       "        [0.3320, 0.2631, 0.4050],\n",
       "        [0.3167, 0.2815, 0.4018],\n",
       "        [0.3581, 0.3018, 0.3401],\n",
       "        [0.3578, 0.2170, 0.4252],\n",
       "        [0.3663, 0.2304, 0.4033],\n",
       "        [0.3501, 0.2194, 0.4305],\n",
       "        [0.2665, 0.2521, 0.4814],\n",
       "        [0.3263, 0.2802, 0.3934],\n",
       "        [0.3863, 0.2381, 0.3756],\n",
       "        [0.3897, 0.2557, 0.3546],\n",
       "        [0.2879, 0.3028, 0.4092],\n",
       "        [0.4228, 0.2625, 0.3147],\n",
       "        [0.2819, 0.2441, 0.4741],\n",
       "        [0.3083, 0.2630, 0.4287],\n",
       "        [0.4261, 0.1851, 0.3888]], grad_fn=<SoftmaxBackward>)"
      ]
     },
     "execution_count": 143,
     "metadata": {},
     "output_type": "execute_result"
    }
   ],
   "source": [
    "pred"
   ]
  },
  {
   "cell_type": "code",
   "execution_count": 144,
   "metadata": {},
   "outputs": [
    {
     "data": {
      "text/plain": [
       "tensor([2, 1, 1, 0, 1, 2, 2, 2, 2, 2, 1, 0, 2, 0, 2, 1, 0, 2, 1, 0, 2, 0, 0, 2,\n",
       "        2, 0, 0, 1, 2, 0, 2, 0])"
      ]
     },
     "execution_count": 144,
     "metadata": {},
     "output_type": "execute_result"
    }
   ],
   "source": [
    "y"
   ]
  },
  {
   "cell_type": "code",
   "execution_count": 145,
   "metadata": {},
   "outputs": [],
   "source": [
    "def NLLLoss(logs, targets):\n",
    "    out = torch.zeros_like(targets, dtype=torch.float)\n",
    "    for i in range(len(targets)):\n",
    "        out[i] = logs[i][targets[i]]\n",
    "    return out\n",
    "\n",
    "\n",
    "def FEF(logs, targets):\n",
    "    \n",
    "    out = torch.diag(logs[:,targets])\n",
    "    \n",
    "    return out"
   ]
  },
  {
   "cell_type": "code",
   "execution_count": 146,
   "metadata": {},
   "outputs": [],
   "source": [
    "c = NLLLoss(pred, y)"
   ]
  },
  {
   "cell_type": "code",
   "execution_count": 147,
   "metadata": {},
   "outputs": [],
   "source": [
    "c = FEF(pred, y)"
   ]
  },
  {
   "cell_type": "code",
   "execution_count": 148,
   "metadata": {},
   "outputs": [
    {
     "data": {
      "text/plain": [
       "tensor([0.4144, 0.2320, 0.3498, 0.2965, 0.3053, 0.4169, 0.3715, 0.2770, 0.4242,\n",
       "        0.3892, 0.2468, 0.3215, 0.3453, 0.3506, 0.3979, 0.2883, 0.3443, 0.4050,\n",
       "        0.2815, 0.3581, 0.4252, 0.3663, 0.3501, 0.4814, 0.3934, 0.3863, 0.3897,\n",
       "        0.3028, 0.3147, 0.2819, 0.4287, 0.4261], grad_fn=<DiagBackward>)"
      ]
     },
     "execution_count": 148,
     "metadata": {},
     "output_type": "execute_result"
    }
   ],
   "source": [
    "FEF(pred, y)"
   ]
  },
  {
   "cell_type": "code",
   "execution_count": 149,
   "metadata": {},
   "outputs": [
    {
     "data": {
      "text/plain": [
       "tensor([0.4144, 0.2320, 0.3498, 0.2965, 0.3053, 0.4169, 0.3715, 0.2770, 0.4242,\n",
       "        0.3892, 0.2468, 0.3215, 0.3453, 0.3506, 0.3979, 0.2883, 0.3443, 0.4050,\n",
       "        0.2815, 0.3581, 0.4252, 0.3663, 0.3501, 0.4814, 0.3934, 0.3863, 0.3897,\n",
       "        0.3028, 0.3147, 0.2819, 0.4287, 0.4261], grad_fn=<CopySlices>)"
      ]
     },
     "execution_count": 149,
     "metadata": {},
     "output_type": "execute_result"
    }
   ],
   "source": [
    "NLLLoss(pred, y)"
   ]
  },
  {
   "cell_type": "code",
   "execution_count": 150,
   "metadata": {},
   "outputs": [
    {
     "data": {
      "text/plain": [
       "tensor([0.4144, 0.2320, 0.3498, 0.2965, 0.3053, 0.4169, 0.3715, 0.2770, 0.4242,\n",
       "        0.3892, 0.2468, 0.3215, 0.3453, 0.3506, 0.3979, 0.2883, 0.3443, 0.4050,\n",
       "        0.2815, 0.3581, 0.4252, 0.3663, 0.3501, 0.4814, 0.3934, 0.3863, 0.3897,\n",
       "        0.3028, 0.3147, 0.2819, 0.4287, 0.4261], grad_fn=<DiagBackward>)"
      ]
     },
     "execution_count": 150,
     "metadata": {},
     "output_type": "execute_result"
    }
   ],
   "source": [
    "torch.diag(pred[:, y])"
   ]
  },
  {
   "cell_type": "code",
   "execution_count": 151,
   "metadata": {},
   "outputs": [
    {
     "data": {
      "text/plain": [
       "tensor([0.4144, 0.2320, 0.3498, 0.2965, 0.3053, 0.4169, 0.3715, 0.2770, 0.4242,\n",
       "        0.3892, 0.2468, 0.3215, 0.3453, 0.3506, 0.3979, 0.2883, 0.3443, 0.4050,\n",
       "        0.2815, 0.3581, 0.4252, 0.3663, 0.3501, 0.4814, 0.3934, 0.3863, 0.3897,\n",
       "        0.3028, 0.3147, 0.2819, 0.4287, 0.4261], grad_fn=<IndexBackward>)"
      ]
     },
     "execution_count": 151,
     "metadata": {},
     "output_type": "execute_result"
    }
   ],
   "source": [
    "pred[torch.arange(pred.size(0)), y]"
   ]
  },
  {
   "cell_type": "code",
   "execution_count": 152,
   "metadata": {},
   "outputs": [],
   "source": [
    "c = pred[torch.arange(pred.size(0)), y]"
   ]
  },
  {
   "cell_type": "code",
   "execution_count": 153,
   "metadata": {},
   "outputs": [
    {
     "data": {
      "text/plain": [
       "tensor([1, 0, 1, 0, 0, 1, 1, 0, 1, 1, 0, 0, 1, 1, 1, 0, 1, 1, 0, 1, 1, 1, 1, 1,\n",
       "        1, 1, 1, 0, 0, 0, 1, 1], dtype=torch.uint8)"
      ]
     },
     "execution_count": 153,
     "metadata": {},
     "output_type": "execute_result"
    }
   ],
   "source": [
    "c > p"
   ]
  },
  {
   "cell_type": "code",
   "execution_count": 154,
   "metadata": {},
   "outputs": [],
   "source": [
    "v = pred[pred[torch.arange(pred.size(0)), y] > p]"
   ]
  },
  {
   "cell_type": "code",
   "execution_count": 155,
   "metadata": {},
   "outputs": [
    {
     "data": {
      "text/plain": [
       "tensor([[0.3626, 0.2230, 0.4144],\n",
       "        [0.3019, 0.3498, 0.3483],\n",
       "        [0.3007, 0.2824, 0.4169],\n",
       "        [0.3886, 0.2399, 0.3715],\n",
       "        [0.3648, 0.2109, 0.4242],\n",
       "        [0.3910, 0.2198, 0.3892],\n",
       "        [0.3571, 0.2976, 0.3453],\n",
       "        [0.3506, 0.2942, 0.3552],\n",
       "        [0.3834, 0.2187, 0.3979],\n",
       "        [0.3443, 0.2758, 0.3799],\n",
       "        [0.3320, 0.2631, 0.4050],\n",
       "        [0.3581, 0.3018, 0.3401],\n",
       "        [0.3578, 0.2170, 0.4252],\n",
       "        [0.3663, 0.2304, 0.4033],\n",
       "        [0.3501, 0.2194, 0.4305],\n",
       "        [0.2665, 0.2521, 0.4814],\n",
       "        [0.3263, 0.2802, 0.3934],\n",
       "        [0.3863, 0.2381, 0.3756],\n",
       "        [0.3897, 0.2557, 0.3546],\n",
       "        [0.3083, 0.2630, 0.4287],\n",
       "        [0.4261, 0.1851, 0.3888]], grad_fn=<IndexBackward>)"
      ]
     },
     "execution_count": 155,
     "metadata": {},
     "output_type": "execute_result"
    }
   ],
   "source": [
    "v"
   ]
  },
  {
   "cell_type": "code",
   "execution_count": 169,
   "metadata": {},
   "outputs": [
    {
     "data": {
      "text/plain": [
       "0.3378252979993903"
      ]
     },
     "execution_count": 169,
     "metadata": {},
     "output_type": "execute_result"
    }
   ],
   "source": [
    "p"
   ]
  },
  {
   "cell_type": "code",
   "execution_count": null,
   "metadata": {},
   "outputs": [],
   "source": []
  },
  {
   "cell_type": "code",
   "execution_count": null,
   "metadata": {},
   "outputs": [],
   "source": []
  },
  {
   "cell_type": "code",
   "execution_count": null,
   "metadata": {},
   "outputs": [],
   "source": []
  },
  {
   "cell_type": "code",
   "execution_count": null,
   "metadata": {},
   "outputs": [],
   "source": []
  },
  {
   "cell_type": "code",
   "execution_count": null,
   "metadata": {},
   "outputs": [],
   "source": []
  },
  {
   "cell_type": "code",
   "execution_count": null,
   "metadata": {},
   "outputs": [],
   "source": []
  },
  {
   "cell_type": "code",
   "execution_count": null,
   "metadata": {},
   "outputs": [],
   "source": []
  },
  {
   "cell_type": "code",
   "execution_count": null,
   "metadata": {},
   "outputs": [],
   "source": []
  },
  {
   "cell_type": "code",
   "execution_count": null,
   "metadata": {},
   "outputs": [],
   "source": [
    "pred.select()"
   ]
  },
  {
   "cell_type": "code",
   "execution_count": 91,
   "metadata": {},
   "outputs": [
    {
     "data": {
      "text/plain": [
       "tensor([[0.4628, 0.1951, 0.3421,  ..., 0.1951, 0.3421, 0.4628],\n",
       "        [0.3171, 0.3344, 0.3485,  ..., 0.3344, 0.3485, 0.3171],\n",
       "        [0.2421, 0.4490, 0.3089,  ..., 0.4490, 0.3089, 0.2421],\n",
       "        ...,\n",
       "        [0.2472, 0.3902, 0.3625,  ..., 0.3902, 0.3625, 0.2472],\n",
       "        [0.2207, 0.4100, 0.3693,  ..., 0.4100, 0.3693, 0.2207],\n",
       "        [0.2866, 0.2091, 0.5043,  ..., 0.2091, 0.5043, 0.2866]])"
      ]
     },
     "execution_count": 91,
     "metadata": {},
     "output_type": "execute_result"
    }
   ],
   "source": [
    "pred[:, y]"
   ]
  },
  {
   "cell_type": "code",
   "execution_count": null,
   "metadata": {},
   "outputs": [],
   "source": [
    "pred"
   ]
  },
  {
   "cell_type": "code",
   "execution_count": null,
   "metadata": {},
   "outputs": [],
   "source": []
  },
  {
   "cell_type": "code",
   "execution_count": null,
   "metadata": {},
   "outputs": [],
   "source": []
  },
  {
   "cell_type": "code",
   "execution_count": null,
   "metadata": {},
   "outputs": [],
   "source": []
  },
  {
   "cell_type": "code",
   "execution_count": null,
   "metadata": {},
   "outputs": [],
   "source": []
  },
  {
   "cell_type": "code",
   "execution_count": null,
   "metadata": {},
   "outputs": [],
   "source": []
  },
  {
   "cell_type": "code",
   "execution_count": null,
   "metadata": {},
   "outputs": [],
   "source": []
  },
  {
   "cell_type": "code",
   "execution_count": null,
   "metadata": {},
   "outputs": [],
   "source": []
  },
  {
   "cell_type": "code",
   "execution_count": null,
   "metadata": {},
   "outputs": [],
   "source": []
  },
  {
   "cell_type": "code",
   "execution_count": null,
   "metadata": {},
   "outputs": [],
   "source": []
  },
  {
   "cell_type": "code",
   "execution_count": null,
   "metadata": {},
   "outputs": [],
   "source": []
  },
  {
   "cell_type": "code",
   "execution_count": null,
   "metadata": {},
   "outputs": [],
   "source": []
  },
  {
   "cell_type": "code",
   "execution_count": 75,
   "metadata": {},
   "outputs": [
    {
     "data": {
      "text/plain": [
       "tensor([[0.4628, 0.3421, 0.1951],\n",
       "        [0.2421, 0.3089, 0.4490],\n",
       "        [0.3171, 0.3485, 0.3344],\n",
       "        [0.2421, 0.3089, 0.4490],\n",
       "        [0.4628, 0.3421, 0.1951],\n",
       "        [0.2421, 0.3089, 0.4490],\n",
       "        [0.4628, 0.3421, 0.1951],\n",
       "        [0.4628, 0.3421, 0.1951],\n",
       "        [0.2421, 0.3089, 0.4490],\n",
       "        [0.2421, 0.3089, 0.4490],\n",
       "        [0.2421, 0.3089, 0.4490],\n",
       "        [0.2421, 0.3089, 0.4490],\n",
       "        [0.2421, 0.3089, 0.4490],\n",
       "        [0.3171, 0.3485, 0.3344],\n",
       "        [0.3171, 0.3485, 0.3344],\n",
       "        [0.2421, 0.3089, 0.4490],\n",
       "        [0.4628, 0.3421, 0.1951],\n",
       "        [0.2421, 0.3089, 0.4490],\n",
       "        [0.2421, 0.3089, 0.4490],\n",
       "        [0.3171, 0.3485, 0.3344],\n",
       "        [0.4628, 0.3421, 0.1951],\n",
       "        [0.2421, 0.3089, 0.4490],\n",
       "        [0.3171, 0.3485, 0.3344],\n",
       "        [0.2421, 0.3089, 0.4490],\n",
       "        [0.4628, 0.3421, 0.1951],\n",
       "        [0.2421, 0.3089, 0.4490],\n",
       "        [0.3171, 0.3485, 0.3344],\n",
       "        [0.4628, 0.3421, 0.1951],\n",
       "        [0.2421, 0.3089, 0.4490],\n",
       "        [0.2421, 0.3089, 0.4490],\n",
       "        [0.3171, 0.3485, 0.3344],\n",
       "        [0.4628, 0.3421, 0.1951]])"
      ]
     },
     "execution_count": 75,
     "metadata": {},
     "output_type": "execute_result"
    }
   ],
   "source": [
    "pred[y, :]"
   ]
  },
  {
   "cell_type": "code",
   "execution_count": 61,
   "metadata": {},
   "outputs": [
    {
     "ename": "TypeError",
     "evalue": "gather(): argument 'index' (position 2) must be Tensor, not int",
     "output_type": "error",
     "traceback": [
      "\u001b[0;31m---------------------------------------------------------------------------\u001b[0m",
      "\u001b[0;31mTypeError\u001b[0m                                 Traceback (most recent call last)",
      "\u001b[0;32m<ipython-input-61-d578b12d84ba>\u001b[0m in \u001b[0;36m<module>\u001b[0;34m\u001b[0m\n\u001b[0;32m----> 1\u001b[0;31m \u001b[0my\u001b[0m\u001b[0;34m.\u001b[0m\u001b[0mgather\u001b[0m\u001b[0;34m(\u001b[0m\u001b[0;36m0\u001b[0m\u001b[0;34m,\u001b[0m \u001b[0;36m5\u001b[0m\u001b[0;34m)\u001b[0m\u001b[0;34m\u001b[0m\u001b[0;34m\u001b[0m\u001b[0m\n\u001b[0m",
      "\u001b[0;31mTypeError\u001b[0m: gather(): argument 'index' (position 2) must be Tensor, not int"
     ]
    }
   ],
   "source": [
    "y.gather(0, )"
   ]
  },
  {
   "cell_type": "code",
   "execution_count": null,
   "metadata": {},
   "outputs": [],
   "source": []
  },
  {
   "cell_type": "code",
   "execution_count": null,
   "metadata": {},
   "outputs": [],
   "source": []
  },
  {
   "cell_type": "code",
   "execution_count": null,
   "metadata": {},
   "outputs": [],
   "source": []
  },
  {
   "cell_type": "code",
   "execution_count": null,
   "metadata": {},
   "outputs": [],
   "source": []
  },
  {
   "cell_type": "code",
   "execution_count": 59,
   "metadata": {},
   "outputs": [
    {
     "data": {
      "text/plain": [
       "tensor([[0.4628, 0.3421, 0.1951],\n",
       "        [0.2421, 0.3089, 0.4490],\n",
       "        [0.3171, 0.3485, 0.3344],\n",
       "        [0.2421, 0.3089, 0.4490],\n",
       "        [0.4628, 0.3421, 0.1951],\n",
       "        [0.2421, 0.3089, 0.4490],\n",
       "        [0.4628, 0.3421, 0.1951],\n",
       "        [0.4628, 0.3421, 0.1951],\n",
       "        [0.2421, 0.3089, 0.4490],\n",
       "        [0.2421, 0.3089, 0.4490],\n",
       "        [0.2421, 0.3089, 0.4490],\n",
       "        [0.2421, 0.3089, 0.4490],\n",
       "        [0.2421, 0.3089, 0.4490],\n",
       "        [0.3171, 0.3485, 0.3344],\n",
       "        [0.3171, 0.3485, 0.3344],\n",
       "        [0.2421, 0.3089, 0.4490],\n",
       "        [0.4628, 0.3421, 0.1951],\n",
       "        [0.2421, 0.3089, 0.4490],\n",
       "        [0.2421, 0.3089, 0.4490],\n",
       "        [0.3171, 0.3485, 0.3344],\n",
       "        [0.4628, 0.3421, 0.1951],\n",
       "        [0.2421, 0.3089, 0.4490],\n",
       "        [0.3171, 0.3485, 0.3344],\n",
       "        [0.2421, 0.3089, 0.4490],\n",
       "        [0.4628, 0.3421, 0.1951],\n",
       "        [0.2421, 0.3089, 0.4490],\n",
       "        [0.3171, 0.3485, 0.3344],\n",
       "        [0.4628, 0.3421, 0.1951],\n",
       "        [0.2421, 0.3089, 0.4490],\n",
       "        [0.2421, 0.3089, 0.4490],\n",
       "        [0.3171, 0.3485, 0.3344],\n",
       "        [0.4628, 0.3421, 0.1951]])"
      ]
     },
     "execution_count": 59,
     "metadata": {},
     "output_type": "execute_result"
    }
   ],
   "source": [
    "predaa"
   ]
  },
  {
   "cell_type": "code",
   "execution_count": null,
   "metadata": {},
   "outputs": [],
   "source": []
  },
  {
   "cell_type": "code",
   "execution_count": null,
   "metadata": {},
   "outputs": [],
   "source": []
  },
  {
   "cell_type": "code",
   "execution_count": 56,
   "metadata": {},
   "outputs": [],
   "source": [
    "z, _ = pred.max(dim=1)"
   ]
  },
  {
   "cell_type": "code",
   "execution_count": 57,
   "metadata": {},
   "outputs": [
    {
     "data": {
      "text/plain": [
       "tensor([0.4628, 0.3485, 0.4490, 0.4387, 0.3668, 0.3930, 0.3932, 0.4197, 0.4148,\n",
       "        0.4178, 0.4015, 0.4597, 0.4513, 0.3715, 0.4090, 0.3600, 0.3667, 0.4235,\n",
       "        0.4600, 0.4139, 0.4437, 0.4029, 0.4478, 0.4262, 0.4420, 0.4071, 0.3962,\n",
       "        0.4176, 0.3955, 0.3902, 0.4100, 0.5043])"
      ]
     },
     "execution_count": 57,
     "metadata": {},
     "output_type": "execute_result"
    }
   ],
   "source": [
    "z[z > p]"
   ]
  },
  {
   "cell_type": "code",
   "execution_count": 40,
   "metadata": {},
   "outputs": [
    {
     "ename": "TypeError",
     "evalue": "select(): argument 'index' (position 2) must be int, not list",
     "output_type": "error",
     "traceback": [
      "\u001b[0;31m---------------------------------------------------------------------------\u001b[0m",
      "\u001b[0;31mTypeError\u001b[0m                                 Traceback (most recent call last)",
      "\u001b[0;32m<ipython-input-40-a23ce20aefc2>\u001b[0m in \u001b[0;36m<module>\u001b[0;34m\u001b[0m\n\u001b[0;32m----> 1\u001b[0;31m \u001b[0mpred\u001b[0m\u001b[0;34m.\u001b[0m\u001b[0mselect\u001b[0m\u001b[0;34m(\u001b[0m\u001b[0;36m0\u001b[0m\u001b[0;34m,\u001b[0m \u001b[0;34m[\u001b[0m\u001b[0;36m1\u001b[0m\u001b[0;34m,\u001b[0m \u001b[0;36m5\u001b[0m\u001b[0;34m]\u001b[0m\u001b[0;34m)\u001b[0m\u001b[0;34m\u001b[0m\u001b[0;34m\u001b[0m\u001b[0m\n\u001b[0m",
      "\u001b[0;31mTypeError\u001b[0m: select(): argument 'index' (position 2) must be int, not list"
     ]
    }
   ],
   "source": [
    "pred.select(0, [1, 5])"
   ]
  },
  {
   "cell_type": "code",
   "execution_count": 34,
   "metadata": {},
   "outputs": [
    {
     "data": {
      "text/plain": [
       "tensor([0.3434, 0.3728, 0.3712, 0.4345, 0.3419, 0.3421, 0.4297, 0.4623, 0.3661,\n",
       "        0.3468, 0.3488, 0.4638, 0.3988, 0.3685, 0.5089, 0.4722, 0.3819, 0.3489,\n",
       "        0.4033, 0.4104, 0.3660, 0.4061, 0.3695, 0.4447, 0.4305, 0.4885, 0.3458,\n",
       "        0.3631, 0.3671, 0.4365, 0.5020, 0.3728, 0.3601, 0.3653, 0.3749, 0.3579,\n",
       "        0.4615, 0.3767, 0.3710, 0.3497, 0.4087, 0.3835])"
      ]
     },
     "execution_count": 34,
     "metadata": {},
     "output_type": "execute_result"
    }
   ],
   "source": [
    "pred[pred > p]"
   ]
  },
  {
   "cell_type": "code",
   "execution_count": 33,
   "metadata": {},
   "outputs": [
    {
     "data": {
      "text/plain": [
       "tensor(-0.3363)"
      ]
     },
     "execution_count": 33,
     "metadata": {},
     "output_type": "execute_result"
    }
   ],
   "source": [
    "criterion(pred, y)"
   ]
  },
  {
   "cell_type": "code",
   "execution_count": null,
   "metadata": {},
   "outputs": [],
   "source": []
  },
  {
   "cell_type": "code",
   "execution_count": null,
   "metadata": {},
   "outputs": [],
   "source": []
  },
  {
   "cell_type": "code",
   "execution_count": null,
   "metadata": {},
   "outputs": [],
   "source": []
  },
  {
   "cell_type": "code",
   "execution_count": null,
   "metadata": {},
   "outputs": [],
   "source": []
  },
  {
   "cell_type": "code",
   "execution_count": null,
   "metadata": {},
   "outputs": [],
   "source": []
  },
  {
   "cell_type": "code",
   "execution_count": null,
   "metadata": {},
   "outputs": [],
   "source": []
  },
  {
   "cell_type": "code",
   "execution_count": null,
   "metadata": {},
   "outputs": [],
   "source": []
  },
  {
   "cell_type": "code",
   "execution_count": null,
   "metadata": {},
   "outputs": [],
   "source": []
  },
  {
   "cell_type": "code",
   "execution_count": null,
   "metadata": {},
   "outputs": [],
   "source": []
  },
  {
   "cell_type": "code",
   "execution_count": null,
   "metadata": {},
   "outputs": [],
   "source": []
  }
 ],
 "metadata": {
  "kernelspec": {
   "display_name": "Python 3",
   "language": "python",
   "name": "python3"
  },
  "language_info": {
   "codemirror_mode": {
    "name": "ipython",
    "version": 3
   },
   "file_extension": ".py",
   "mimetype": "text/x-python",
   "name": "python",
   "nbconvert_exporter": "python",
   "pygments_lexer": "ipython3",
   "version": "3.6.5"
  }
 },
 "nbformat": 4,
 "nbformat_minor": 2
}
