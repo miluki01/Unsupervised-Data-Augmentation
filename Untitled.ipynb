{
 "cells": [
  {
   "cell_type": "code",
   "execution_count": 49,
   "metadata": {},
   "outputs": [],
   "source": [
    "import numpy as np\n",
    "import faiss"
   ]
  },
  {
   "cell_type": "code",
   "execution_count": 9,
   "metadata": {},
   "outputs": [],
   "source": [
    "VOCAB_PATH = '../routing/data/sberbank_embeddings/w2v_m5_w3_v300_norm_v48_vocab.txt'\n",
    "W2V_MATRIX_PATH = '../routing/data/sberbank_embeddings/w2v_m5_w3_v300_norm_v48_vectors.npy'"
   ]
  },
  {
   "cell_type": "code",
   "execution_count": 10,
   "metadata": {},
   "outputs": [],
   "source": [
    "import faiss"
   ]
  },
  {
   "cell_type": "code",
   "execution_count": 11,
   "metadata": {},
   "outputs": [],
   "source": [
    "with open(VOCAB_PATH) as f:\n",
    "    vocab = f.read().split('\\n')"
   ]
  },
  {
   "cell_type": "code",
   "execution_count": 14,
   "metadata": {},
   "outputs": [],
   "source": [
    "w2v_matrix = np.load(W2V_MATRIX_PATH)"
   ]
  },
  {
   "cell_type": "code",
   "execution_count": 140,
   "metadata": {},
   "outputs": [],
   "source": [
    "class Word2Vec:\n",
    "    \n",
    "    def __init__(self, vocab_path, matrix_path):\n",
    "        \n",
    "        with open(VOCAB_PATH) as f:\n",
    "            self.vocab = f.read().split('\\n')\n",
    "            \n",
    "        self._exist_words = set(self.vocab)\n",
    "            \n",
    "        self.word_matrix = np.load(matrix_path)\n",
    "        \n",
    "        self.index = faiss.IndexFlatL2(self.word_matrix.shape[1])\n",
    "        self.index.add(self.word_matrix)\n",
    "        \n",
    "    def get_word_index(self, word):\n",
    "        \n",
    "        if word in self._exist_words:\n",
    "            return self.vocab.index(word)\n",
    "        \n",
    "    def __call__(self, word):\n",
    "        \n",
    "        index = self.get_word_index(word)\n",
    "        \n",
    "        if index:\n",
    "        \n",
    "            return self.word_matrix[index]\n",
    "    \n",
    "    def __getitem__(self, word):\n",
    "        \n",
    "        return self.__call__(word)\n",
    "    \n",
    "    def get_similar(self, word, k=1):\n",
    "        \n",
    "        k += 1\n",
    "        \n",
    "        vector = self.__call__(word)\n",
    "        \n",
    "        if vector is None:\n",
    "            return None\n",
    "        \n",
    "        _, indexes = self.index.search(x=np.array([vector]), k=k)\n",
    "        \n",
    "        indexes = indexes[0][1:]\n",
    "        \n",
    "        return [self.vocab[n] for n in indexes]"
   ]
  },
  {
   "cell_type": "code",
   "execution_count": 141,
   "metadata": {},
   "outputs": [],
   "source": [
    "w2v = Word2Vec(VOCAB_PATH, W2V_MATRIX_PATH)"
   ]
  },
  {
   "cell_type": "code",
   "execution_count": 142,
   "metadata": {},
   "outputs": [
    {
     "data": {
      "text/plain": [
       "['онлайн-сервис',\n",
       " 'интернет-сервис',\n",
       " 'интернет-банкинг',\n",
       " 'интерфейс',\n",
       " 'интернет-банк',\n",
       " 'услуга']"
      ]
     },
     "execution_count": 142,
     "metadata": {},
     "output_type": "execute_result"
    }
   ],
   "source": [
    "w2v.get_similar('сервис', 6)"
   ]
  },
  {
   "cell_type": "code",
   "execution_count": 158,
   "metadata": {},
   "outputs": [],
   "source": [
    "import random"
   ]
  },
  {
   "cell_type": "code",
   "execution_count": 285,
   "metadata": {},
   "outputs": [],
   "source": [
    "class TfIdfReplacer:\n",
    "    \n",
    "    def __init__(self, w2v, idf_values, k_top_words=1):\n",
    "        \n",
    "        self.w2v = w2v\n",
    "        self.vocab = self.w2v.vocab\n",
    "    \n",
    "        self.idf_values = idf_values\n",
    "        \n",
    "        self.k_top_words = k_top_words\n",
    "\n",
    "    def replace_word(self, word):\n",
    "        \n",
    "        index = self.w2v.get_word_index(word)\n",
    "        \n",
    "        if index is None:\n",
    "            return word\n",
    "        \n",
    "        idf = self.idf_values[index]\n",
    "        \n",
    "        if idf > random.random():\n",
    "            \n",
    "            similar_word = random.choice(self.w2v.get_similar(word, k=self.k_top_words))\n",
    "            \n",
    "            return similar_word\n",
    "        \n",
    "        else:\n",
    "            \n",
    "            return word\n",
    "        \n",
    "    def replace_sentence(self, tokens):\n",
    "        \n",
    "        replaced = [self.replace_word(tok) for tok in tokens]\n",
    "        \n",
    "        return replaced"
   ]
  },
  {
   "cell_type": "code",
   "execution_count": 286,
   "metadata": {},
   "outputs": [],
   "source": [
    "replacer = TfIdfReplacer(w2v=w2v, idf_values=np.random.rand(len(w2v.vocab)), k_top_words=5)"
   ]
  },
  {
   "cell_type": "code",
   "execution_count": 287,
   "metadata": {},
   "outputs": [
    {
     "data": {
      "text/plain": [
       "'мама'"
      ]
     },
     "execution_count": 287,
     "metadata": {},
     "output_type": "execute_result"
    }
   ],
   "source": [
    "replacer.replace_word('мама')"
   ]
  },
  {
   "cell_type": "code",
   "execution_count": 288,
   "metadata": {},
   "outputs": [
    {
     "data": {
      "text/plain": [
       "['мама', 'мыла', 'рама', '.']"
      ]
     },
     "execution_count": 288,
     "metadata": {},
     "output_type": "execute_result"
    }
   ],
   "source": [
    "replacer.replace_sentence('мама мыла рама .'.split())"
   ]
  },
  {
   "cell_type": "code",
   "execution_count": 289,
   "metadata": {},
   "outputs": [],
   "source": [
    "import json"
   ]
  },
  {
   "cell_type": "code",
   "execution_count": 290,
   "metadata": {},
   "outputs": [],
   "source": [
    "with open('../routing/data/dataset/data.jsonl') as f:\n",
    "    train = [json.loads(sample) for sample in f.read().split('\\n')]"
   ]
  },
  {
   "cell_type": "code",
   "execution_count": 291,
   "metadata": {},
   "outputs": [
    {
     "data": {
      "text/plain": [
       "{'text': 'Я в Воронеже открыл расчетный счет, я уехал в другой город и не успел сделать логин и пароль, чтобы я мог с компьютера заходит Бизнес Онлайн Сбербанк. И поэтому возможно ли мне в другом городе, я нахожусь в Сочи, пойти в какое-то отделение банка со своим паспортом, чтобы мне могли сделать логин и пароль',\n",
       " 'target': 'ANNA.1.sales',\n",
       " 'parsed': {'normalized_text': 'GEO_TOKEN открывать расчетный_счет уезжать другой город не успевать сделать логин пароль компьютер заходить бизнес онлайн сбербанк . поэтому возможно другой город находиться GEO_TOKEN пойти какой-то отделение банк со свой паспорт сделать логин пароль .',\n",
       "  'original_text': 'Я в Воронеже открыл расчетный счет, я уехал в другой город и не успел сделать логин и пароль, чтобы я мог с компьютера заходит Бизнес Онлайн Сбербанк. И поэтому возможно ли мне в другом городе, я нахожусь в Сочи, пойти в какое-то отделение банка со своим паспортом, чтобы мне могли сделать логин и пароль',\n",
       "  'tokenized_elements_list': [{'text': 'Я',\n",
       "    'grammem_info': {'part_of_speech': 'SPRO',\n",
       "     'number': 'ед',\n",
       "     'person': '1-л',\n",
       "     'case': 'им',\n",
       "     'raw_gram_info': 'SPRO,ед,1-л=им'},\n",
       "    'lemma': 'я',\n",
       "    'is_stop_word': True,\n",
       "    'list_of_dependents': [],\n",
       "    'dependency_type': 'nsubj',\n",
       "    'head': 4},\n",
       "   {'text': 'в',\n",
       "    'grammem_info': {'part_of_speech': 'PR', 'raw_gram_info': 'PR='},\n",
       "    'lemma': 'в',\n",
       "    'is_stop_word': True,\n",
       "    'list_of_dependents': [],\n",
       "    'dependency_type': 'case',\n",
       "    'head': 3},\n",
       "   {'text': 'Воронеже',\n",
       "    'grammem_info': {'part_of_speech': 'S',\n",
       "     'other': 'гео',\n",
       "     'gender': 'муж',\n",
       "     'animacy': 'неод',\n",
       "     'case': 'пр',\n",
       "     'number': 'ед',\n",
       "     'raw_gram_info': 'S,гео,муж,неод=пр,ед'},\n",
       "    'lemma': 'воронеж',\n",
       "    'is_stop_word': False,\n",
       "    'list_of_dependents': [2],\n",
       "    'dependency_type': 'obl',\n",
       "    'head': 4,\n",
       "    'is_beginning_of_composite': True,\n",
       "    'composite_token_type': 'GEO_TOKEN',\n",
       "    'composite_token_length': 1,\n",
       "    'composite_token_value': 'воронеж'},\n",
       "   {'text': 'открыл',\n",
       "    'grammem_info': {'part_of_speech': 'V',\n",
       "     'tense': 'прош',\n",
       "     'number': 'ед',\n",
       "     'mood': 'изъяв',\n",
       "     'gender': 'муж',\n",
       "     'aspect': 'сов',\n",
       "     'raw_gram_info': 'V=прош,ед,изъяв,муж,сов'},\n",
       "    'lemma': 'открывать',\n",
       "    'is_stop_word': False,\n",
       "    'list_of_dependents': [1, 3, 5, 8, 14],\n",
       "    'dependency_type': 'root',\n",
       "    'head': 0},\n",
       "   {'text': 'расчетный_счет',\n",
       "    'grammem_info': {'part_of_speech': 'S',\n",
       "     'gender': 'муж',\n",
       "     'animacy': 'неод',\n",
       "     'ambiguous': [{'case': 'вин', 'number': 'ед'},\n",
       "      {'case': 'им', 'number': 'ед'}],\n",
       "     'raw_gram_info': 'S,муж,неод=(вин,ед|им,ед)'},\n",
       "    'lemma': 'расчетный_счет',\n",
       "    'is_stop_word': False,\n",
       "    'list_of_dependents': [6],\n",
       "    'dependency_type': 'obj',\n",
       "    'head': 4},\n",
       "   {'text': ',',\n",
       "    'grammem_info': {'part_of_speech': 'PUNCT', 'raw_gram_info': 'PUNCT'},\n",
       "    'lemma': ',',\n",
       "    'is_stop_word': False,\n",
       "    'list_of_dependents': [],\n",
       "    'dependency_type': 'punct',\n",
       "    'head': 5},\n",
       "   {'text': 'я',\n",
       "    'grammem_info': {'part_of_speech': 'SPRO',\n",
       "     'number': 'ед',\n",
       "     'person': '1-л',\n",
       "     'case': 'им',\n",
       "     'raw_gram_info': 'SPRO,ед,1-л=им'},\n",
       "    'lemma': 'я',\n",
       "    'is_stop_word': True,\n",
       "    'list_of_dependents': [],\n",
       "    'dependency_type': 'nsubj',\n",
       "    'head': 8},\n",
       "   {'text': 'уехал',\n",
       "    'grammem_info': {'part_of_speech': 'V',\n",
       "     'transitivity': 'нп',\n",
       "     'tense': 'прош',\n",
       "     'number': 'ед',\n",
       "     'mood': 'изъяв',\n",
       "     'gender': 'муж',\n",
       "     'aspect': 'сов',\n",
       "     'raw_gram_info': 'V,нп=прош,ед,изъяв,муж,сов'},\n",
       "    'lemma': 'уезжать',\n",
       "    'is_stop_word': False,\n",
       "    'list_of_dependents': [7, 10, 11],\n",
       "    'dependency_type': 'conj',\n",
       "    'head': 4},\n",
       "   {'text': 'в',\n",
       "    'grammem_info': {'part_of_speech': 'PR', 'raw_gram_info': 'PR='},\n",
       "    'lemma': 'в',\n",
       "    'is_stop_word': True,\n",
       "    'list_of_dependents': [],\n",
       "    'dependency_type': 'case',\n",
       "    'head': 10},\n",
       "   {'text': 'другой',\n",
       "    'grammem_info': {'part_of_speech': 'APRO',\n",
       "     'ambiguous': [{'case': 'пр', 'number': 'ед', 'gender': 'жен'},\n",
       "      {'case': 'дат', 'number': 'ед', 'gender': 'жен'},\n",
       "      {'case': 'род', 'number': 'ед', 'gender': 'жен'},\n",
       "      {'case': 'твор', 'number': 'ед', 'gender': 'жен'},\n",
       "      {'case': 'вин', 'number': 'ед', 'gender': 'муж', 'animacy': 'неод'},\n",
       "      {'case': 'им', 'number': 'ед', 'gender': 'муж'}],\n",
       "     'raw_gram_info': 'APRO=(пр,ед,жен|дат,ед,жен|род,ед,жен|твор,ед,жен|вин,ед,муж,неод|им,ед,муж)'},\n",
       "    'lemma': 'другой',\n",
       "    'is_stop_word': False,\n",
       "    'list_of_dependents': [9],\n",
       "    'dependency_type': 'obl',\n",
       "    'head': 8},\n",
       "   {'text': 'город',\n",
       "    'grammem_info': {'part_of_speech': 'S',\n",
       "     'gender': 'муж',\n",
       "     'animacy': 'неод',\n",
       "     'ambiguous': [{'case': 'вин', 'number': 'ед'},\n",
       "      {'case': 'им', 'number': 'ед'}],\n",
       "     'raw_gram_info': 'S,муж,неод=(вин,ед|им,ед)'},\n",
       "    'lemma': 'город',\n",
       "    'is_stop_word': False,\n",
       "    'list_of_dependents': [],\n",
       "    'dependency_type': 'obj',\n",
       "    'head': 8},\n",
       "   {'text': 'и',\n",
       "    'grammem_info': {'part_of_speech': 'CONJ', 'raw_gram_info': 'CONJ='},\n",
       "    'lemma': 'и',\n",
       "    'is_stop_word': True,\n",
       "    'list_of_dependents': [],\n",
       "    'dependency_type': 'cc',\n",
       "    'head': 14},\n",
       "   {'text': 'не',\n",
       "    'grammem_info': {'part_of_speech': 'PART', 'raw_gram_info': 'PART='},\n",
       "    'lemma': 'не',\n",
       "    'is_stop_word': False,\n",
       "    'list_of_dependents': [],\n",
       "    'dependency_type': 'advmod',\n",
       "    'head': 14},\n",
       "   {'text': 'успел',\n",
       "    'grammem_info': {'part_of_speech': 'V',\n",
       "     'transitivity': 'нп',\n",
       "     'tense': 'прош',\n",
       "     'number': 'ед',\n",
       "     'mood': 'изъяв',\n",
       "     'gender': 'муж',\n",
       "     'aspect': 'сов',\n",
       "     'raw_gram_info': 'V,нп=прош,ед,изъяв,муж,сов'},\n",
       "    'lemma': 'успевать',\n",
       "    'is_stop_word': False,\n",
       "    'list_of_dependents': [12, 13, 15],\n",
       "    'dependency_type': 'conj',\n",
       "    'head': 4},\n",
       "   {'text': 'сделать',\n",
       "    'grammem_info': {'part_of_speech': 'V',\n",
       "     'aspect': 'сов',\n",
       "     'transitivity': 'пе',\n",
       "     'mood': 'инф',\n",
       "     'raw_gram_info': 'V,сов,пе=инф'},\n",
       "    'lemma': 'сделать',\n",
       "    'is_stop_word': False,\n",
       "    'list_of_dependents': [16, 22],\n",
       "    'dependency_type': 'xcomp',\n",
       "    'head': 14},\n",
       "   {'text': 'логин',\n",
       "    'grammem_info': {'part_of_speech': 'S',\n",
       "     'gender': 'муж',\n",
       "     'animacy': 'неод',\n",
       "     'ambiguous': [{'case': 'вин', 'number': 'ед'},\n",
       "      {'case': 'им', 'number': 'ед'}],\n",
       "     'raw_gram_info': 'S,муж,неод=(вин,ед|им,ед)'},\n",
       "    'lemma': 'логин',\n",
       "    'is_stop_word': False,\n",
       "    'list_of_dependents': [18],\n",
       "    'dependency_type': 'obj',\n",
       "    'head': 15},\n",
       "   {'text': 'и',\n",
       "    'grammem_info': {'part_of_speech': 'CONJ', 'raw_gram_info': 'CONJ='},\n",
       "    'lemma': 'и',\n",
       "    'is_stop_word': True,\n",
       "    'list_of_dependents': [],\n",
       "    'dependency_type': 'cc',\n",
       "    'head': 18},\n",
       "   {'text': 'пароль',\n",
       "    'grammem_info': {'part_of_speech': 'S',\n",
       "     'gender': 'муж',\n",
       "     'animacy': 'неод',\n",
       "     'ambiguous': [{'case': 'вин', 'number': 'ед'},\n",
       "      {'case': 'им', 'number': 'ед'}],\n",
       "     'raw_gram_info': 'S,муж,неод=(вин,ед|им,ед)'},\n",
       "    'lemma': 'пароль',\n",
       "    'is_stop_word': False,\n",
       "    'list_of_dependents': [17, 19],\n",
       "    'dependency_type': 'conj',\n",
       "    'head': 16},\n",
       "   {'text': ',',\n",
       "    'grammem_info': {'part_of_speech': 'PUNCT', 'raw_gram_info': 'PUNCT'},\n",
       "    'lemma': ',',\n",
       "    'is_stop_word': False,\n",
       "    'list_of_dependents': [],\n",
       "    'dependency_type': 'punct',\n",
       "    'head': 18},\n",
       "   {'text': 'чтобы',\n",
       "    'grammem_info': {'part_of_speech': 'CONJ', 'raw_gram_info': 'CONJ='},\n",
       "    'lemma': 'чтобы',\n",
       "    'is_stop_word': True,\n",
       "    'list_of_dependents': [],\n",
       "    'dependency_type': 'mark',\n",
       "    'head': 22},\n",
       "   {'text': 'я',\n",
       "    'grammem_info': {'part_of_speech': 'SPRO',\n",
       "     'number': 'ед',\n",
       "     'person': '1-л',\n",
       "     'case': 'им',\n",
       "     'raw_gram_info': 'SPRO,ед,1-л=им'},\n",
       "    'lemma': 'я',\n",
       "    'is_stop_word': True,\n",
       "    'list_of_dependents': [],\n",
       "    'dependency_type': 'nsubj',\n",
       "    'head': 22},\n",
       "   {'text': 'мог',\n",
       "    'grammem_info': {'part_of_speech': 'V',\n",
       "     'aspect': 'несов',\n",
       "     'transitivity': 'нп',\n",
       "     'tense': 'прош',\n",
       "     'number': 'ед',\n",
       "     'mood': 'изъяв',\n",
       "     'gender': 'муж',\n",
       "     'raw_gram_info': 'V,несов,нп=прош,ед,изъяв,муж'},\n",
       "    'lemma': 'мочь',\n",
       "    'is_stop_word': True,\n",
       "    'list_of_dependents': [20, 21, 24, 25],\n",
       "    'dependency_type': 'advcl',\n",
       "    'head': 15},\n",
       "   {'text': 'с',\n",
       "    'grammem_info': {'part_of_speech': 'PR', 'raw_gram_info': 'PR='},\n",
       "    'lemma': 'с',\n",
       "    'is_stop_word': True,\n",
       "    'list_of_dependents': [],\n",
       "    'dependency_type': 'case',\n",
       "    'head': 24},\n",
       "   {'text': 'компьютера',\n",
       "    'grammem_info': {'part_of_speech': 'S',\n",
       "     'gender': 'муж',\n",
       "     'animacy': 'неод',\n",
       "     'case': 'род',\n",
       "     'number': 'ед',\n",
       "     'raw_gram_info': 'S,муж,неод=род,ед'},\n",
       "    'lemma': 'компьютер',\n",
       "    'is_stop_word': False,\n",
       "    'list_of_dependents': [23],\n",
       "    'dependency_type': 'obl',\n",
       "    'head': 22},\n",
       "   {'text': 'заходит',\n",
       "    'grammem_info': {'part_of_speech': 'V',\n",
       "     'aspect': 'несов',\n",
       "     'transitivity': 'нп',\n",
       "     'tense': 'непрош',\n",
       "     'number': 'ед',\n",
       "     'mood': 'изъяв',\n",
       "     'person': '3-л',\n",
       "     'raw_gram_info': 'V,несов,нп=непрош,ед,изъяв,3-л'},\n",
       "    'lemma': 'заходить',\n",
       "    'is_stop_word': False,\n",
       "    'list_of_dependents': [26, 27, 28],\n",
       "    'dependency_type': 'conj',\n",
       "    'head': 22},\n",
       "   {'text': 'Бизнес',\n",
       "    'grammem_info': {'part_of_speech': 'S',\n",
       "     'gender': 'муж',\n",
       "     'animacy': 'неод',\n",
       "     'ambiguous': [{'case': 'вин', 'number': 'ед'},\n",
       "      {'case': 'им', 'number': 'ед'}],\n",
       "     'raw_gram_info': 'S,муж,неод=(вин,ед|им,ед)'},\n",
       "    'lemma': 'бизнес',\n",
       "    'is_stop_word': False,\n",
       "    'list_of_dependents': [],\n",
       "    'dependency_type': 'nsubj',\n",
       "    'head': 25},\n",
       "   {'text': 'Онлайн',\n",
       "    'grammem_info': {'part_of_speech': 'ADV', 'raw_gram_info': 'ADV='},\n",
       "    'lemma': 'онлайн',\n",
       "    'is_stop_word': False,\n",
       "    'list_of_dependents': [],\n",
       "    'dependency_type': 'advmod',\n",
       "    'head': 25},\n",
       "   {'text': 'Сбербанк',\n",
       "    'grammem_info': {'part_of_speech': 'S',\n",
       "     'gender': 'муж',\n",
       "     'animacy': 'неод',\n",
       "     'ambiguous': [{'case': 'вин', 'number': 'ед'},\n",
       "      {'case': 'им', 'number': 'ед'}],\n",
       "     'raw_gram_info': 'S,муж,неод=(вин,ед|им,ед)'},\n",
       "    'lemma': 'сбербанк',\n",
       "    'is_stop_word': False,\n",
       "    'list_of_dependents': [29],\n",
       "    'dependency_type': 'obj',\n",
       "    'head': 25},\n",
       "   {'text': '.',\n",
       "    'grammem_info': {'part_of_speech': 'PUNCT', 'raw_gram_info': 'PUNCT'},\n",
       "    'lemma': '.',\n",
       "    'is_stop_word': False,\n",
       "    'list_of_dependents': [],\n",
       "    'dependency_type': 'punct',\n",
       "    'head': 28},\n",
       "   {'text': '.', 'lemma': '.', 'token_type': 'SENTENCE_ENDPOINT_TOKEN'},\n",
       "   {'text': 'И',\n",
       "    'grammem_info': {'part_of_speech': 'CONJ', 'raw_gram_info': 'CONJ='},\n",
       "    'lemma': 'и',\n",
       "    'is_stop_word': True,\n",
       "    'list_of_dependents': [],\n",
       "    'dependency_type': 'cc',\n",
       "    'head': 33},\n",
       "   {'text': 'поэтому',\n",
       "    'grammem_info': {'part_of_speech': 'ADVPRO', 'raw_gram_info': 'ADVPRO='},\n",
       "    'lemma': 'поэтому',\n",
       "    'is_stop_word': False,\n",
       "    'list_of_dependents': [],\n",
       "    'dependency_type': 'advmod',\n",
       "    'head': 33},\n",
       "   {'text': 'возможно',\n",
       "    'grammem_info': {'part_of_speech': 'ADV',\n",
       "     'other': 'вводн',\n",
       "     'raw_gram_info': 'ADV,вводн='},\n",
       "    'lemma': 'возможно',\n",
       "    'is_stop_word': False,\n",
       "    'list_of_dependents': [31, 32, 34, 35, 38, 41],\n",
       "    'dependency_type': 'root',\n",
       "    'head': 0},\n",
       "   {'text': 'ли',\n",
       "    'grammem_info': {'part_of_speech': 'PART', 'raw_gram_info': 'PART='},\n",
       "    'lemma': 'ли',\n",
       "    'is_stop_word': True,\n",
       "    'list_of_dependents': [],\n",
       "    'dependency_type': 'discourse',\n",
       "    'head': 33},\n",
       "   {'text': 'мне',\n",
       "    'grammem_info': {'part_of_speech': 'SPRO',\n",
       "     'number': 'ед',\n",
       "     'person': '1-л',\n",
       "     'ambiguous': [{'case': 'пр'}, {'case': 'дат'}],\n",
       "     'raw_gram_info': 'SPRO,ед,1-л=(пр|дат)'},\n",
       "    'lemma': 'я',\n",
       "    'is_stop_word': True,\n",
       "    'list_of_dependents': [],\n",
       "    'dependency_type': 'iobj',\n",
       "    'head': 33},\n",
       "   {'text': 'в',\n",
       "    'grammem_info': {'part_of_speech': 'PR', 'raw_gram_info': 'PR='},\n",
       "    'lemma': 'в',\n",
       "    'is_stop_word': True,\n",
       "    'list_of_dependents': [],\n",
       "    'dependency_type': 'case',\n",
       "    'head': 38},\n",
       "   {'text': 'другом',\n",
       "    'grammem_info': {'part_of_speech': 'APRO',\n",
       "     'ambiguous': [{'case': 'пр', 'number': 'ед', 'gender': 'муж'},\n",
       "      {'case': 'пр', 'number': 'ед', 'gender': 'сред'}],\n",
       "     'raw_gram_info': 'APRO=(пр,ед,муж|пр,ед,сред)'},\n",
       "    'lemma': 'другой',\n",
       "    'is_stop_word': False,\n",
       "    'list_of_dependents': [],\n",
       "    'dependency_type': 'amod',\n",
       "    'head': 38},\n",
       "   {'text': 'городе',\n",
       "    'grammem_info': {'part_of_speech': 'S',\n",
       "     'gender': 'муж',\n",
       "     'animacy': 'неод',\n",
       "     'case': 'пр',\n",
       "     'number': 'ед',\n",
       "     'raw_gram_info': 'S,муж,неод=пр,ед'},\n",
       "    'lemma': 'город',\n",
       "    'is_stop_word': False,\n",
       "    'list_of_dependents': [36, 37, 39],\n",
       "    'dependency_type': 'obl',\n",
       "    'head': 33},\n",
       "   {'text': ',',\n",
       "    'grammem_info': {'part_of_speech': 'PUNCT', 'raw_gram_info': 'PUNCT'},\n",
       "    'lemma': ',',\n",
       "    'is_stop_word': False,\n",
       "    'list_of_dependents': [],\n",
       "    'dependency_type': 'punct',\n",
       "    'head': 38},\n",
       "   {'text': 'я',\n",
       "    'grammem_info': {'part_of_speech': 'SPRO',\n",
       "     'number': 'ед',\n",
       "     'person': '1-л',\n",
       "     'case': 'им',\n",
       "     'raw_gram_info': 'SPRO,ед,1-л=им'},\n",
       "    'lemma': 'я',\n",
       "    'is_stop_word': True,\n",
       "    'list_of_dependents': [],\n",
       "    'dependency_type': 'nsubj',\n",
       "    'head': 41},\n",
       "   {'text': 'нахожусь',\n",
       "    'grammem_info': {'part_of_speech': 'V',\n",
       "     'transitivity': 'нп',\n",
       "     'tense': 'непрош',\n",
       "     'number': 'ед',\n",
       "     'mood': 'изъяв',\n",
       "     'person': '1-л',\n",
       "     'aspect': 'несов',\n",
       "     'raw_gram_info': 'V,нп=непрош,ед,изъяв,1-л,несов'},\n",
       "    'lemma': 'находиться',\n",
       "    'is_stop_word': False,\n",
       "    'list_of_dependents': [40, 43, 45],\n",
       "    'dependency_type': 'csubj',\n",
       "    'head': 33},\n",
       "   {'text': 'в',\n",
       "    'grammem_info': {'part_of_speech': 'PR', 'raw_gram_info': 'PR='},\n",
       "    'lemma': 'в',\n",
       "    'is_stop_word': True,\n",
       "    'list_of_dependents': [],\n",
       "    'dependency_type': 'case',\n",
       "    'head': 43},\n",
       "   {'text': 'Сочи',\n",
       "    'grammem_info': {'part_of_speech': 'S',\n",
       "     'other': 'гео',\n",
       "     'gender': 'муж',\n",
       "     'animacy': 'неод',\n",
       "     'ambiguous': [{'case': 'пр', 'number': 'мн'},\n",
       "      {'case': 'пр', 'number': 'ед'},\n",
       "      {'case': 'вин', 'number': 'мн'},\n",
       "      {'case': 'вин', 'number': 'ед'},\n",
       "      {'case': 'дат', 'number': 'мн'},\n",
       "      {'case': 'дат', 'number': 'ед'},\n",
       "      {'case': 'род', 'number': 'мн'},\n",
       "      {'case': 'род', 'number': 'ед'},\n",
       "      {'case': 'твор', 'number': 'мн'},\n",
       "      {'case': 'твор', 'number': 'ед'},\n",
       "      {'case': 'им', 'number': 'мн'},\n",
       "      {'case': 'им', 'number': 'ед'}],\n",
       "     'raw_gram_info': 'S,гео,муж,неод=(пр,мн|пр,ед|вин,мн|вин,ед|дат,мн|дат,ед|род,мн|род,ед|твор,мн|твор,ед|им,мн|им,ед)'},\n",
       "    'lemma': 'сочи',\n",
       "    'is_stop_word': False,\n",
       "    'list_of_dependents': [42, 44],\n",
       "    'dependency_type': 'obl',\n",
       "    'head': 41,\n",
       "    'is_beginning_of_composite': True,\n",
       "    'composite_token_type': 'GEO_TOKEN',\n",
       "    'composite_token_length': 1,\n",
       "    'composite_token_value': 'сочи'},\n",
       "   {'text': ',',\n",
       "    'grammem_info': {'part_of_speech': 'PUNCT', 'raw_gram_info': 'PUNCT'},\n",
       "    'lemma': ',',\n",
       "    'is_stop_word': False,\n",
       "    'list_of_dependents': [],\n",
       "    'dependency_type': 'punct',\n",
       "    'head': 43},\n",
       "   {'text': 'пойти',\n",
       "    'grammem_info': {'part_of_speech': 'V',\n",
       "     'aspect': 'сов',\n",
       "     'transitivity': 'нп',\n",
       "     'mood': 'инф',\n",
       "     'raw_gram_info': 'V,сов,нп=инф'},\n",
       "    'lemma': 'пойти',\n",
       "    'is_stop_word': False,\n",
       "    'list_of_dependents': [48],\n",
       "    'dependency_type': 'conj',\n",
       "    'head': 41},\n",
       "   {'text': 'в',\n",
       "    'grammem_info': {'part_of_speech': 'PR', 'raw_gram_info': 'PR='},\n",
       "    'lemma': 'в',\n",
       "    'is_stop_word': True,\n",
       "    'list_of_dependents': [],\n",
       "    'dependency_type': 'case',\n",
       "    'head': 48},\n",
       "   {'text': 'какое-то',\n",
       "    'grammem_info': {'part_of_speech': 'APRO',\n",
       "     'ambiguous': [{'case': 'вин', 'number': 'ед', 'gender': 'сред'},\n",
       "      {'case': 'им', 'number': 'ед', 'gender': 'сред'}],\n",
       "     'raw_gram_info': 'APRO=(вин,ед,сред|им,ед,сред)'},\n",
       "    'lemma': 'какой-то',\n",
       "    'is_stop_word': False,\n",
       "    'list_of_dependents': [],\n",
       "    'dependency_type': 'amod',\n",
       "    'head': 48},\n",
       "   {'text': 'отделение',\n",
       "    'grammem_info': {'part_of_speech': 'S',\n",
       "     'gender': 'сред',\n",
       "     'animacy': 'неод',\n",
       "     'ambiguous': [{'case': 'вин', 'number': 'ед'},\n",
       "      {'case': 'им', 'number': 'ед'}],\n",
       "     'raw_gram_info': 'S,сред,неод=(вин,ед|им,ед)'},\n",
       "    'lemma': 'отделение',\n",
       "    'is_stop_word': False,\n",
       "    'list_of_dependents': [46, 47, 49, 52],\n",
       "    'dependency_type': 'obl',\n",
       "    'head': 45},\n",
       "   {'text': 'банка',\n",
       "    'grammem_info': {'part_of_speech': 'S',\n",
       "     'gender': 'муж',\n",
       "     'animacy': 'неод',\n",
       "     'case': 'род',\n",
       "     'number': 'ед',\n",
       "     'raw_gram_info': 'S,муж,неод=род,ед'},\n",
       "    'lemma': 'банк',\n",
       "    'is_stop_word': False,\n",
       "    'list_of_dependents': [],\n",
       "    'dependency_type': 'nmod',\n",
       "    'head': 48},\n",
       "   {'text': 'со',\n",
       "    'grammem_info': {'part_of_speech': 'PR', 'raw_gram_info': 'PR='},\n",
       "    'lemma': 'со',\n",
       "    'is_stop_word': False,\n",
       "    'list_of_dependents': [],\n",
       "    'dependency_type': 'case',\n",
       "    'head': 52},\n",
       "   {'text': 'своим',\n",
       "    'grammem_info': {'part_of_speech': 'APRO',\n",
       "     'ambiguous': [{'case': 'дат', 'number': 'мн'},\n",
       "      {'case': 'твор', 'number': 'ед', 'gender': 'муж'},\n",
       "      {'case': 'твор', 'number': 'ед', 'gender': 'сред'}],\n",
       "     'raw_gram_info': 'APRO=(дат,мн|твор,ед,муж|твор,ед,сред)'},\n",
       "    'lemma': 'свой',\n",
       "    'is_stop_word': False,\n",
       "    'list_of_dependents': [],\n",
       "    'dependency_type': 'det',\n",
       "    'head': 52},\n",
       "   {'text': 'паспортом',\n",
       "    'grammem_info': {'part_of_speech': 'S',\n",
       "     'gender': 'муж',\n",
       "     'animacy': 'неод',\n",
       "     'case': 'твор',\n",
       "     'number': 'ед',\n",
       "     'raw_gram_info': 'S,муж,неод=твор,ед'},\n",
       "    'lemma': 'паспорт',\n",
       "    'is_stop_word': False,\n",
       "    'list_of_dependents': [50, 51, 53, 56],\n",
       "    'dependency_type': 'nmod',\n",
       "    'head': 48},\n",
       "   {'text': ',',\n",
       "    'grammem_info': {'part_of_speech': 'PUNCT', 'raw_gram_info': 'PUNCT'},\n",
       "    'lemma': ',',\n",
       "    'is_stop_word': False,\n",
       "    'list_of_dependents': [],\n",
       "    'dependency_type': 'punct',\n",
       "    'head': 52},\n",
       "   {'text': 'чтобы',\n",
       "    'grammem_info': {'part_of_speech': 'CONJ', 'raw_gram_info': 'CONJ='},\n",
       "    'lemma': 'чтобы',\n",
       "    'is_stop_word': True,\n",
       "    'list_of_dependents': [],\n",
       "    'dependency_type': 'mark',\n",
       "    'head': 56},\n",
       "   {'text': 'мне',\n",
       "    'grammem_info': {'part_of_speech': 'SPRO',\n",
       "     'number': 'ед',\n",
       "     'person': '1-л',\n",
       "     'ambiguous': [{'case': 'пр'}, {'case': 'дат'}],\n",
       "     'raw_gram_info': 'SPRO,ед,1-л=(пр|дат)'},\n",
       "    'lemma': 'я',\n",
       "    'is_stop_word': True,\n",
       "    'list_of_dependents': [],\n",
       "    'dependency_type': 'iobj',\n",
       "    'head': 57},\n",
       "   {'text': 'могли',\n",
       "    'grammem_info': {'part_of_speech': 'V',\n",
       "     'aspect': 'несов',\n",
       "     'transitivity': 'нп',\n",
       "     'tense': 'прош',\n",
       "     'number': 'мн',\n",
       "     'mood': 'изъяв',\n",
       "     'raw_gram_info': 'V,несов,нп=прош,мн,изъяв'},\n",
       "    'lemma': 'мочь',\n",
       "    'is_stop_word': True,\n",
       "    'list_of_dependents': [54, 57],\n",
       "    'dependency_type': 'advcl',\n",
       "    'head': 52},\n",
       "   {'text': 'сделать',\n",
       "    'grammem_info': {'part_of_speech': 'V',\n",
       "     'aspect': 'сов',\n",
       "     'transitivity': 'пе',\n",
       "     'mood': 'инф',\n",
       "     'raw_gram_info': 'V,сов,пе=инф'},\n",
       "    'lemma': 'сделать',\n",
       "    'is_stop_word': False,\n",
       "    'list_of_dependents': [55, 58],\n",
       "    'dependency_type': 'xcomp',\n",
       "    'head': 56},\n",
       "   {'text': 'логин',\n",
       "    'grammem_info': {'part_of_speech': 'S',\n",
       "     'gender': 'муж',\n",
       "     'animacy': 'неод',\n",
       "     'ambiguous': [{'case': 'вин', 'number': 'ед'},\n",
       "      {'case': 'им', 'number': 'ед'}],\n",
       "     'raw_gram_info': 'S,муж,неод=(вин,ед|им,ед)'},\n",
       "    'lemma': 'логин',\n",
       "    'is_stop_word': False,\n",
       "    'list_of_dependents': [60],\n",
       "    'dependency_type': 'obj',\n",
       "    'head': 57},\n",
       "   {'text': 'и',\n",
       "    'grammem_info': {'part_of_speech': 'CONJ', 'raw_gram_info': 'CONJ='},\n",
       "    'lemma': 'и',\n",
       "    'is_stop_word': True,\n",
       "    'list_of_dependents': [],\n",
       "    'dependency_type': 'cc',\n",
       "    'head': 60},\n",
       "   {'text': 'пароль',\n",
       "    'grammem_info': {'part_of_speech': 'S',\n",
       "     'gender': 'муж',\n",
       "     'animacy': 'неод',\n",
       "     'ambiguous': [{'case': 'вин', 'number': 'ед'},\n",
       "      {'case': 'им', 'number': 'ед'}],\n",
       "     'raw_gram_info': 'S,муж,неод=(вин,ед|им,ед)'},\n",
       "    'lemma': 'пароль',\n",
       "    'is_stop_word': False,\n",
       "    'list_of_dependents': [59],\n",
       "    'dependency_type': 'conj',\n",
       "    'head': 58},\n",
       "   {'text': '.', 'lemma': '.', 'token_type': 'SENTENCE_ENDPOINT_TOKEN'}]}}"
      ]
     },
     "execution_count": 291,
     "metadata": {},
     "output_type": "execute_result"
    }
   ],
   "source": [
    "train[0]"
   ]
  },
  {
   "cell_type": "code",
   "execution_count": 293,
   "metadata": {},
   "outputs": [
    {
     "name": "stdout",
     "output_type": "stream",
     "text": [
      "GEO_TOKEN GEO_TOKEN\n",
      "открывать открывать\n",
      "расчетный_счет расчетный_счет\n",
      "уезжать уезжать\n",
      "другой realite\n",
      "город регион\n",
      "не он\n",
      "успевать успевать\n",
      "сделать сделать\n",
      "логин пароль\n",
      "пароль код\n",
      "компьютер ноутбук\n",
      "заходить заходить\n",
      "бизнес бизнес\n",
      "онлайн онлайн\n",
      "сбербанк сбербанк\n",
      ". .\n",
      "поэтому поэтому\n",
      "возможно малоосуществимый\n",
      "другой myr\n",
      "город город\n",
      "находиться находиться\n",
      "GEO_TOKEN GEO_TOKEN\n",
      "пойти пойти\n",
      "какой-то какой-то\n",
      "отделение отделение\n",
      "банк ORG_TOKEN\n",
      "со ип-шный\n",
      "свой свой\n",
      "паспорт паспорт\n",
      "сделать сделать\n",
      "логин индификатор\n",
      "пароль код\n",
      ". .\n"
     ]
    }
   ],
   "source": [
    "origin = train[0]['parsed']['normalized_text'].split()\n",
    "\n",
    "replaced = replacer.replace_sentence(origin)\n",
    "\n",
    "for n in range(len(origin)):\n",
    "    print(origin[n], replaced[n])"
   ]
  },
  {
   "cell_type": "code",
   "execution_count": 294,
   "metadata": {},
   "outputs": [
    {
     "name": "stdout",
     "output_type": "stream",
     "text": [
      "276 ms ± 34.4 ms per loop (mean ± std. dev. of 7 runs, 1 loop each)\n"
     ]
    }
   ],
   "source": [
    "%%timeit\n",
    "replaced = replacer.replace_sentence(origin)"
   ]
  },
  {
   "cell_type": "code",
   "execution_count": null,
   "metadata": {},
   "outputs": [],
   "source": [
    "w2v = "
   ]
  },
  {
   "cell_type": "code",
   "execution_count": null,
   "metadata": {},
   "outputs": [],
   "source": []
  },
  {
   "cell_type": "code",
   "execution_count": null,
   "metadata": {},
   "outputs": [],
   "source": []
  },
  {
   "cell_type": "code",
   "execution_count": null,
   "metadata": {},
   "outputs": [],
   "source": []
  },
  {
   "cell_type": "code",
   "execution_count": null,
   "metadata": {},
   "outputs": [],
   "source": []
  },
  {
   "cell_type": "code",
   "execution_count": null,
   "metadata": {},
   "outputs": [],
   "source": []
  },
  {
   "cell_type": "code",
   "execution_count": null,
   "metadata": {},
   "outputs": [],
   "source": []
  },
  {
   "cell_type": "code",
   "execution_count": null,
   "metadata": {},
   "outputs": [],
   "source": []
  },
  {
   "cell_type": "code",
   "execution_count": null,
   "metadata": {},
   "outputs": [],
   "source": []
  },
  {
   "cell_type": "code",
   "execution_count": null,
   "metadata": {},
   "outputs": [],
   "source": []
  },
  {
   "cell_type": "code",
   "execution_count": null,
   "metadata": {},
   "outputs": [],
   "source": []
  },
  {
   "cell_type": "code",
   "execution_count": null,
   "metadata": {},
   "outputs": [],
   "source": []
  },
  {
   "cell_type": "code",
   "execution_count": null,
   "metadata": {},
   "outputs": [],
   "source": []
  },
  {
   "cell_type": "code",
   "execution_count": null,
   "metadata": {},
   "outputs": [],
   "source": []
  },
  {
   "cell_type": "code",
   "execution_count": null,
   "metadata": {},
   "outputs": [],
   "source": []
  },
  {
   "cell_type": "code",
   "execution_count": 86,
   "metadata": {},
   "outputs": [
    {
     "data": {
      "text/plain": [
       "array([148619,    999,   1656,   2134,   2906])"
      ]
     },
     "execution_count": 86,
     "metadata": {},
     "output_type": "execute_result"
    }
   ],
   "source": [
    "w2v.get_similar('NUM_TOKEN')"
   ]
  },
  {
   "cell_type": "code",
   "execution_count": 78,
   "metadata": {},
   "outputs": [
    {
     "data": {
      "text/plain": [
       "148619"
      ]
     },
     "execution_count": 78,
     "metadata": {},
     "output_type": "execute_result"
    }
   ],
   "source": [
    "w2v.get_similar('NUM_TOKEN')[0][0]"
   ]
  },
  {
   "cell_type": "code",
   "execution_count": null,
   "metadata": {},
   "outputs": [],
   "source": []
  },
  {
   "cell_type": "code",
   "execution_count": null,
   "metadata": {},
   "outputs": [],
   "source": []
  },
  {
   "cell_type": "code",
   "execution_count": null,
   "metadata": {},
   "outputs": [],
   "source": []
  },
  {
   "cell_type": "code",
   "execution_count": null,
   "metadata": {},
   "outputs": [],
   "source": []
  },
  {
   "cell_type": "code",
   "execution_count": null,
   "metadata": {},
   "outputs": [],
   "source": []
  },
  {
   "cell_type": "code",
   "execution_count": null,
   "metadata": {},
   "outputs": [],
   "source": []
  },
  {
   "cell_type": "code",
   "execution_count": null,
   "metadata": {},
   "outputs": [],
   "source": [
    "self"
   ]
  },
  {
   "cell_type": "code",
   "execution_count": null,
   "metadata": {},
   "outputs": [],
   "source": []
  },
  {
   "cell_type": "code",
   "execution_count": 62,
   "metadata": {},
   "outputs": [],
   "source": [
    "w2v('AEF')"
   ]
  },
  {
   "cell_type": "code",
   "execution_count": 33,
   "metadata": {},
   "outputs": [
    {
     "data": {
      "text/plain": [
       "<__main__.Word2Vec at 0x12e317f60>"
      ]
     },
     "execution_count": 33,
     "metadata": {},
     "output_type": "execute_result"
    }
   ],
   "source": [
    "w2v"
   ]
  },
  {
   "cell_type": "code",
   "execution_count": 35,
   "metadata": {},
   "outputs": [
    {
     "data": {
      "text/plain": [
       "array([0., 0., 0., 0., 0., 0., 0., 0., 0., 0., 0., 0., 0., 0., 0., 0., 0.,\n",
       "       0., 0., 0., 0., 0., 0., 0., 0., 0., 0., 0., 0., 0., 0., 0., 0., 0.,\n",
       "       0., 0., 0., 0., 0., 0., 0., 0., 0., 0., 0., 0., 0., 0., 0., 0., 0.,\n",
       "       0., 0., 0., 0., 0., 0., 0., 0., 0., 0., 0., 0., 0., 0., 0., 0., 0.,\n",
       "       0., 0., 0., 0., 0., 0., 0., 0., 0., 0., 0., 0., 0., 0., 0., 0., 0.,\n",
       "       0., 0., 0., 0., 0., 0., 0., 0., 0., 0., 0., 0., 0., 0., 0., 0., 0.,\n",
       "       0., 0., 0., 0., 0., 0., 0., 0., 0., 0., 0., 0., 0., 0., 0., 0., 0.,\n",
       "       0., 0., 0., 0., 0., 0., 0., 0., 0., 0., 0., 0., 0., 0., 0., 0., 0.,\n",
       "       0., 0., 0., 0., 0., 0., 0., 0., 0., 0., 0., 0., 0., 0., 0., 0., 0.,\n",
       "       0., 0., 0., 0., 0., 0., 0., 0., 0., 0., 0., 0., 0., 0., 0., 0., 0.,\n",
       "       0., 0., 0., 0., 0., 0., 0., 0., 0., 0., 0., 0., 0., 0., 0., 0., 0.,\n",
       "       0., 0., 0., 0., 0., 0., 0., 0., 0., 0., 0., 0., 0., 0., 0., 0., 0.,\n",
       "       0., 0., 0., 0., 0., 0., 0., 0., 0., 0., 0., 0., 0., 0., 0., 0., 0.,\n",
       "       0., 0., 0., 0., 0., 0., 0., 0., 0., 0., 0., 0., 0., 0., 0., 0., 0.,\n",
       "       0., 0., 0., 0., 0., 0., 0., 0., 0., 0., 0., 0., 0., 0., 0., 0., 0.,\n",
       "       0., 0., 0., 0., 0., 0., 0., 0., 0., 0., 0., 0., 0., 0., 0., 0., 0.,\n",
       "       0., 0., 0., 0., 0., 0., 0., 0., 0., 0., 0., 0., 0., 0., 0., 0., 0.,\n",
       "       0., 0., 0., 0., 0., 0., 0., 0., 0., 0., 0.], dtype=float32)"
      ]
     },
     "execution_count": 35,
     "metadata": {},
     "output_type": "execute_result"
    }
   ],
   "source": [
    "w2v['PAD']"
   ]
  },
  {
   "cell_type": "code",
   "execution_count": 36,
   "metadata": {},
   "outputs": [
    {
     "name": "stdout",
     "output_type": "stream",
     "text": [
      "True\n",
      "100000\n",
      "[[  0 393 363  78]\n",
      " [  1 555 277 364]\n",
      " [  2 304 101  13]\n",
      " [  3 173  18 182]\n",
      " [  4 288 370 531]]\n",
      "[[0.        7.1751733 7.207629  7.2511625]\n",
      " [0.        6.3235645 6.684581  6.7999454]\n",
      " [0.        5.7964087 6.391736  7.2815123]\n",
      " [0.        7.2779055 7.5279865 7.6628466]\n",
      " [0.        6.7638035 7.2951202 7.3688145]]\n",
      "[[ 381  207  210  477]\n",
      " [ 526  911  142   72]\n",
      " [ 838  527 1290  425]\n",
      " [ 196  184  164  359]\n",
      " [ 526  377  120  425]]\n",
      "[[ 9900 10500  9309  9831]\n",
      " [11055 10895 10812 11321]\n",
      " [11353 11103 10164  9787]\n",
      " [10571 10664 10632  9638]\n",
      " [ 9628  9554 10036  9582]]\n"
     ]
    }
   ],
   "source": [
    "import numpy as np\n",
    "\n",
    "d = 64                           # dimension\n",
    "nb = 100000                      # database size\n",
    "nq = 10000                       # nb of queries\n",
    "np.random.seed(1234)             # make reproducible\n",
    "xb = np.random.random((nb, d)).astype('float32')\n",
    "xb[:, 0] += np.arange(nb) / 1000.\n",
    "xq = np.random.random((nq, d)).astype('float32')\n",
    "xq[:, 0] += np.arange(nq) / 1000.\n",
    "\n",
    "import faiss                   # make faiss available\n",
    "index = faiss.IndexFlatL2(d)   # build the index\n",
    "print(index.is_trained)\n",
    "index.add(xb)                  # add vectors to the index\n",
    "print(index.ntotal)\n",
    "\n",
    "k = 4                          # we want to see 4 nearest neighbors\n",
    "D, I = index.search(xb[:5], k) # sanity check\n",
    "print(I)\n",
    "print(D)\n",
    "D, I = index.search(xq, k)     # actual search\n",
    "print(I[:5])                   # neighbors of the 5 first queries\n",
    "print(I[-5:])  "
   ]
  },
  {
   "cell_type": "code",
   "execution_count": 38,
   "metadata": {},
   "outputs": [
    {
     "data": {
      "text/plain": [
       "(100000, 64)"
      ]
     },
     "execution_count": 38,
     "metadata": {},
     "output_type": "execute_result"
    }
   ],
   "source": [
    "xb.shape"
   ]
  },
  {
   "cell_type": "code",
   "execution_count": 48,
   "metadata": {},
   "outputs": [
    {
     "data": {
      "text/plain": [
       "<faiss.swigfaiss.IndexFlatL2; proxy of <Swig Object of type 'faiss::IndexFlatL2 *' at 0x114cda870> >"
      ]
     },
     "execution_count": 48,
     "metadata": {},
     "output_type": "execute_result"
    }
   ],
   "source": [
    "index"
   ]
  },
  {
   "cell_type": "code",
   "execution_count": 57,
   "metadata": {},
   "outputs": [
    {
     "data": {
      "text/plain": [
       "(array([[0.       , 7.2779055, 7.5279865, 7.6628466, 7.7859573, 7.790914 ,\n",
       "         7.8467503, 7.968584 , 7.9748025, 8.072303 , 8.2378   , 8.283958 ,\n",
       "         8.310099 , 8.373755 , 8.421442 , 8.435308 , 8.440677 , 8.449957 ,\n",
       "         8.463082 , 8.468847 , 8.474012 , 8.475058 , 8.486101 , 8.529457 ,\n",
       "         8.537892 , 8.552284 , 8.573315 , 8.588804 , 8.593359 , 8.616568 ,\n",
       "         8.628586 , 8.636904 , 8.65514  , 8.65827  , 8.681647 , 8.694721 ,\n",
       "         8.708933 , 8.711966 , 8.715076 , 8.743424 , 8.754325 , 8.759266 ,\n",
       "         8.76605  , 8.767513 , 8.770529 , 8.775406 , 8.782171 , 8.788196 ,\n",
       "         8.7998295, 8.825308 ]], dtype=float32),\n",
       " array([[   3,  173,   18,  182,  484,   64,  527,  887,  409,  316,  609,\n",
       "          768,  412,   74,  766,  392,  210,  911,    8,  577,  149,  925,\n",
       "          491,  635,  418,  248,  225,  980, 1092,  139,   42,  265,  508,\n",
       "           84,  434,  535,  913,  476,  612,  809,  791,  281,  751,  201,\n",
       "            4,  403,  498, 1246,   26,  238]]))"
      ]
     },
     "execution_count": 57,
     "metadata": {},
     "output_type": "execute_result"
    }
   ],
   "source": [
    "index.search(x=np.array([xb[3]]), k=50)"
   ]
  },
  {
   "cell_type": "code",
   "execution_count": 59,
   "metadata": {},
   "outputs": [
    {
     "data": {
      "text/plain": [
       "0"
      ]
     },
     "execution_count": 59,
     "metadata": {},
     "output_type": "execute_result"
    }
   ],
   "source": [
    "faiss.METRIC_INNER_PRODUCT"
   ]
  },
  {
   "cell_type": "code",
   "execution_count": null,
   "metadata": {},
   "outputs": [],
   "source": []
  },
  {
   "cell_type": "code",
   "execution_count": null,
   "metadata": {},
   "outputs": [],
   "source": []
  },
  {
   "cell_type": "code",
   "execution_count": null,
   "metadata": {},
   "outputs": [],
   "source": []
  },
  {
   "cell_type": "code",
   "execution_count": null,
   "metadata": {},
   "outputs": [],
   "source": []
  },
  {
   "cell_type": "code",
   "execution_count": null,
   "metadata": {},
   "outputs": [],
   "source": []
  },
  {
   "cell_type": "code",
   "execution_count": null,
   "metadata": {},
   "outputs": [],
   "source": []
  },
  {
   "cell_type": "code",
   "execution_count": null,
   "metadata": {},
   "outputs": [],
   "source": []
  },
  {
   "cell_type": "code",
   "execution_count": null,
   "metadata": {},
   "outputs": [],
   "source": []
  },
  {
   "cell_type": "code",
   "execution_count": null,
   "metadata": {},
   "outputs": [],
   "source": []
  }
 ],
 "metadata": {
  "kernelspec": {
   "display_name": "Python 3",
   "language": "python",
   "name": "python3"
  },
  "language_info": {
   "codemirror_mode": {
    "name": "ipython",
    "version": 3
   },
   "file_extension": ".py",
   "mimetype": "text/x-python",
   "name": "python",
   "nbconvert_exporter": "python",
   "pygments_lexer": "ipython3",
   "version": "3.6.5"
  }
 },
 "nbformat": 4,
 "nbformat_minor": 2
}
